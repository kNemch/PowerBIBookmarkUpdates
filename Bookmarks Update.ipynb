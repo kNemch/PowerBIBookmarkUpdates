{
 "cells": [
  {
   "attachments": {},
   "cell_type": "markdown",
   "metadata": {},
   "source": [
    "# Algorithm\n",
    "\n",
    "### a. Download the files from PBI Server\n",
    "1. Download all files\n",
    "2. Place them in the selected folder\n",
    "3. Place the Jupyter notebook into the same folder\n",
    "### b. Process the .pbix files - steps for each file\n",
    "##### Preparation - create the temp directory for original archives contents\n",
    "1. Unarchive the pbix file into the folder with the same name, which is located in the `temp` directory\n",
    "2. Go to PBIX folder\n",
    "3. Remove the `SecurityBindings` file\n",
    "4. Remove SecurityBindings recors from the `[Content_Types].xml` (for instance, replace the file with the prepared one)\n",
    "5. Modify the `Report/Layout` file - replace the values\n",
    "6. Create the new archive using the PBIX folder contents\n",
    "##### Remove the folder with Layouts\n",
    "### c. Check the files and publish them to PBI server\n",
    "1. Open each file\n",
    "2. Save and publish"
   ]
  },
  {
   "attachments": {},
   "cell_type": "markdown",
   "metadata": {},
   "source": [
    "# Algorithm implementation"
   ]
  },
  {
   "cell_type": "code",
   "execution_count": 2,
   "metadata": {},
   "outputs": [],
   "source": [
    "import os\n",
    "import re\n",
    "import calendar\n",
    "import datetime\n",
    "import shutil\n",
    "import json\n",
    "\n",
    "from zipfile import ZipFile"
   ]
  },
  {
   "attachments": {},
   "cell_type": "markdown",
   "metadata": {},
   "source": [
    "#### Calculating the date values"
   ]
  },
  {
   "cell_type": "code",
   "execution_count": 3,
   "metadata": {},
   "outputs": [],
   "source": [
    "CURRENT_DATE = datetime.date.today()\n",
    "PREVIOUS_MONTH = CURRENT_DATE - datetime.timedelta(days=CURRENT_DATE.day)\n",
    "\n",
    "NEW_VALUE_YEAR = PREVIOUS_MONTH.year\n",
    "NEW_VALUE_MONTH = PREVIOUS_MONTH.month\n",
    "NEW_VALUE_MONTH_ABBR = calendar.month_abbr[NEW_VALUE_MONTH]\n",
    "NEW_VALUE_QUARTER = (NEW_VALUE_MONTH + 2) // 3"
   ]
  },
  {
   "cell_type": "code",
   "execution_count": 4,
   "metadata": {},
   "outputs": [
    {
     "name": "stdout",
     "output_type": "stream",
     "text": [
      "2023-03-15 2023-02-28\n",
      "2023 2 Feb 1\n"
     ]
    }
   ],
   "source": [
    "print(CURRENT_DATE, PREVIOUS_MONTH)\n",
    "print(NEW_VALUE_YEAR, NEW_VALUE_MONTH, NEW_VALUE_MONTH_ABBR, NEW_VALUE_QUARTER)"
   ]
  },
  {
   "attachments": {},
   "cell_type": "markdown",
   "metadata": {},
   "source": [
    "#### Organizing the workspace. Creating the temporary and results folders"
   ]
  },
  {
   "cell_type": "code",
   "execution_count": 5,
   "metadata": {},
   "outputs": [],
   "source": [
    "\"\"\"Path constants\"\"\"\n",
    "WORKSPACE_PATH = os.getcwd()  # workspace directory with all the data\n",
    "SOURCE_PATH = os.path.join(WORKSPACE_PATH, \"source\")  # directory with original .pbix files\n",
    "TEMP_PATH = os.path.join(WORKSPACE_PATH, \"temp\")      # directory for temporary files\n",
    "RESULTS_PATH = os.path.join(WORKSPACE_PATH, \"result\") # directory for the modified .pbix files"
   ]
  },
  {
   "cell_type": "code",
   "execution_count": 6,
   "metadata": {},
   "outputs": [],
   "source": [
    "def create_workspace_hierarchy():\n",
    "    \"\"\"Checking if directories exist\"\"\"\n",
    "    if not os.path.exists(RESULTS_PATH):\n",
    "        os.mkdir(RESULTS_PATH)\n",
    "    if not os.path.exists(TEMP_PATH):\n",
    "        os.mkdir(TEMP_PATH)\n",
    "    if not os.path.exists(SOURCE_PATH):\n",
    "        os.mkdir(SOURCE_PATH)\n",
    "        print(\"Please, place all the .pbix files into the 'source' directory, and then rerun the script\")\n",
    "    else:\n",
    "        print(\"The directories structure is OK\")"
   ]
  },
  {
   "cell_type": "code",
   "execution_count": 7,
   "metadata": {},
   "outputs": [
    {
     "name": "stdout",
     "output_type": "stream",
     "text": [
      "Please, place all the .pbix files into the 'source' directory, and then rerun the script\n"
     ]
    }
   ],
   "source": [
    "create_workspace_hierarchy()"
   ]
  },
  {
   "attachments": {},
   "cell_type": "markdown",
   "metadata": {},
   "source": [
    "#### Iterating through files"
   ]
  },
  {
   "attachments": {},
   "cell_type": "markdown",
   "metadata": {},
   "source": [
    "1. Get the list of files in the `source` directory"
   ]
  },
  {
   "cell_type": "code",
   "execution_count": 83,
   "metadata": {},
   "outputs": [
    {
     "name": "stdout",
     "output_type": "stream",
     "text": [
      "['Asia Regional Dashboard-GCL v3', 'test']\n"
     ]
    }
   ],
   "source": [
    "source_pbix_files_names = [file_name[:-5] for file_name in os.listdir(SOURCE_PATH) if file_name[-5:] == \".pbix\"]\n",
    "print(source_pbix_files_names)"
   ]
  },
  {
   "cell_type": "code",
   "execution_count": 84,
   "metadata": {},
   "outputs": [
    {
     "data": {
      "text/plain": [
       "'Asia Regional Dashboard-GCL v3'"
      ]
     },
     "execution_count": 84,
     "metadata": {},
     "output_type": "execute_result"
    }
   ],
   "source": [
    "# Getting first element for algorithm example\n",
    "pbix_file_name = source_pbix_files_names[0]\n",
    "pbix_file_name"
   ]
  },
  {
   "attachments": {},
   "cell_type": "markdown",
   "metadata": {},
   "source": [
    "2. Unzip the .pbix file to the `temp` directory"
   ]
  },
  {
   "cell_type": "code",
   "execution_count": 104,
   "metadata": {},
   "outputs": [
    {
     "name": "stdout",
     "output_type": "stream",
     "text": [
      "Extracting all the files from c:\\Users\\Kateryna_Nemchenko\\Desktop\\Bookmark Updates\\source\\Asia Regional Dashboard-GCL v3.pbix to c:\\Users\\Kateryna_Nemchenko\\Desktop\\Bookmark Updates\\temp\\Asia Regional Dashboard-GCL v3\n"
     ]
    }
   ],
   "source": [
    "# paths for the original .pbix file (archive) and temporary folder, to which the file will be unarchived\n",
    "source_zip_path = os.path.join(SOURCE_PATH, pbix_file_name + \".pbix\")\n",
    "temp_dir_path = os.path.join(TEMP_PATH, pbix_file_name)\n",
    "\n",
    "# opening the zip file in READ mode\n",
    "with ZipFile(source_zip_path, 'r') as source_zip_file:\n",
    "    print('Extracting all the files from', source_zip_path, \"to\", temp_dir_path)\n",
    "    source_zip_file.extractall(path=temp_dir_path)"
   ]
  },
  {
   "attachments": {},
   "cell_type": "markdown",
   "metadata": {},
   "source": [
    "3. Remove the `SecurityBindings` file"
   ]
  },
  {
   "cell_type": "code",
   "execution_count": 86,
   "metadata": {},
   "outputs": [],
   "source": [
    "security_bindings_file_path = os.path.join(temp_dir_path, \"SecurityBindings\")\n",
    "if os.path.exists(security_bindings_file_path):\n",
    "    os.remove(security_bindings_file_path)"
   ]
  },
  {
   "attachments": {},
   "cell_type": "markdown",
   "metadata": {},
   "source": [
    "4. Remove SecurityBindings recors from the `[Content_Types].xml` (for instance, replace the file with the prepared one)"
   ]
  },
  {
   "cell_type": "code",
   "execution_count": 87,
   "metadata": {},
   "outputs": [],
   "source": [
    "content_types_file_path = os.path.join(temp_dir_path, \"[Content_Types].xml\")\n",
    "\n",
    "with open(content_types_file_path, \"r\") as content_types_file:\n",
    "    xml = content_types_file.read()\n",
    "\n",
    "updated_xml = xml.replace('<Override PartName=\"/SecurityBindings\" ContentType=\"\" />', \"\")\n",
    "with open(content_types_file_path, \"w\") as content_types_file:\n",
    "    content_types_file.write(updated_xml)"
   ]
  },
  {
   "attachments": {},
   "cell_type": "markdown",
   "metadata": {},
   "source": [
    "##### 5. Update the `Report/Layout` file"
   ]
  },
  {
   "attachments": {},
   "cell_type": "markdown",
   "metadata": {},
   "source": [
    "1. Month and year, to which the file should be updated"
   ]
  },
  {
   "cell_type": "code",
   "execution_count": 53,
   "metadata": {},
   "outputs": [
    {
     "name": "stdout",
     "output_type": "stream",
     "text": [
      "2023 3 Mar 1\n"
     ]
    }
   ],
   "source": []
  },
  {
   "attachments": {},
   "cell_type": "markdown",
   "metadata": {},
   "source": [
    "2. List of pattern and replacements pairs"
   ]
  },
  {
   "cell_type": "code",
   "execution_count": 8,
   "metadata": {},
   "outputs": [
    {
     "ename": "NameError",
     "evalue": "name 'current_month_abbr' is not defined",
     "output_type": "error",
     "traceback": [
      "\u001b[1;31m---------------------------------------------------------------------------\u001b[0m",
      "\u001b[1;31mNameError\u001b[0m                                 Traceback (most recent call last)",
      "Cell \u001b[1;32mIn[8], line 3\u001b[0m\n\u001b[0;32m      1\u001b[0m PERIOD_REPLACEMENTS \u001b[39m=\u001b[39m [\n\u001b[0;32m      2\u001b[0m     \u001b[39m# pattern, new value\u001b[39;00m\n\u001b[1;32m----> 3\u001b[0m     (\u001b[39m'\u001b[39m\u001b[39m(Jan|Feb|Mar|Apr|May|Jun|Jul|Aug|Sep|Oct|Nov|Dec)\u001b[39m\u001b[39m'\u001b[39m, current_month_abbr),  \u001b[39m# month eng\u001b[39;00m\n\u001b[0;32m      4\u001b[0m     (\u001b[39m'\u001b[39m\u001b[39m\\\u001b[39m\u001b[39md\u001b[39m\u001b[39m{\u001b[39m\u001b[39m1,2}月\u001b[39m\u001b[39m'\u001b[39m, \u001b[39mstr\u001b[39m(current_month) \u001b[39m+\u001b[39m \u001b[39m\"\u001b[39m\u001b[39m月\u001b[39m\u001b[39m\"\u001b[39m),   \u001b[39m# month chn\u001b[39;00m\n\u001b[0;32m      5\u001b[0m     (\u001b[39m'\u001b[39m\u001b[39mQ [1-4]\u001b[39m\u001b[39m'\u001b[39m, \u001b[39m'\u001b[39m\u001b[39mQ \u001b[39m\u001b[39m'\u001b[39m \u001b[39m+\u001b[39m \u001b[39mstr\u001b[39m(current_quarter)),   \u001b[39m# quarter eng (with space)\u001b[39;00m\n\u001b[0;32m      6\u001b[0m     (\u001b[39m'\u001b[39m\u001b[39mQ[1-4]\u001b[39m\u001b[39m'\u001b[39m, \u001b[39m'\u001b[39m\u001b[39mQ\u001b[39m\u001b[39m'\u001b[39m \u001b[39m+\u001b[39m \u001b[39mstr\u001b[39m(current_quarter)),     \u001b[39m# quarter eng (without space)\u001b[39;00m\n\u001b[0;32m      7\u001b[0m     \u001b[39m#('\\d{1,2}月', str(current_month) + \"月\"),  # quarter chn\u001b[39;00m\n\u001b[0;32m      8\u001b[0m     (\u001b[39mstr\u001b[39m(current_year \u001b[39m-\u001b[39m \u001b[39m1\u001b[39m), \u001b[39mstr\u001b[39m(current_year))  \u001b[39m# year\u001b[39;00m\n\u001b[0;32m      9\u001b[0m ]\n",
      "\u001b[1;31mNameError\u001b[0m: name 'current_month_abbr' is not defined"
     ]
    }
   ],
   "source": [
    "PERIOD_REPLACEMENTS = [\n",
    "    # pattern, new value\n",
    "    ('(Jan|Feb|Mar|Apr|May|Jun|Jul|Aug|Sep|Oct|Nov|Dec)', current_month_abbr),  # month eng\n",
    "    ('\\d{1,2}月', str(current_month) + \"月\"),   # month chn\n",
    "    ('Q [1-4]', 'Q ' + str(current_quarter)),   # quarter eng (with space)\n",
    "    ('Q[1-4]', 'Q' + str(current_quarter)),     # quarter eng (without space)\n",
    "    #('\\d{1,2}月', str(current_month) + \"月\"),  # quarter chn\n",
    "    (str(current_year - 1), str(current_year))  # year\n",
    "]"
   ]
  },
  {
   "cell_type": "code",
   "execution_count": 72,
   "metadata": {},
   "outputs": [
    {
     "name": "stdout",
     "output_type": "stream",
     "text": [
      "new value - Mar\t\tpattern - (Jan|Feb|Mar|Apr|May|Jun|Jul|Aug|Sep|Oct|Nov|Dec)\n",
      "new value - 3月\t\tpattern - \\d{1,2}月\n",
      "new value - Q 1\t\tpattern - Q [1-4]\n",
      "new value - Q1\t\tpattern - Q[1-4]\n",
      "new value - 2023\t\tpattern - 2022\n"
     ]
    }
   ],
   "source": [
    "for (pattern, new_value) in PERIOD_REPLACEMENTS:\n",
    "    print(\"new value - {}\\t\\tpattern - {}\".format(new_value, pattern))"
   ]
  },
  {
   "attachments": {},
   "cell_type": "markdown",
   "metadata": {},
   "source": [
    "3. Reading the `Layout` file"
   ]
  },
  {
   "cell_type": "code",
   "execution_count": 73,
   "metadata": {},
   "outputs": [],
   "source": [
    "layout_file_path = os.path.join(temp_dir_path, \"Report\", \"Layout\")\n",
    "\n",
    "with open(layout_file_path, \"r\", encoding=\"utf-16-le\") as layout_file:\n",
    "    layout_data = layout_file.read()"
   ]
  },
  {
   "attachments": {},
   "cell_type": "markdown",
   "metadata": {},
   "source": [
    "4. Functions for replacement"
   ]
  },
  {
   "cell_type": "code",
   "execution_count": 40,
   "metadata": {},
   "outputs": [],
   "source": [
    "def replace_period(text:str, period_pattern:str, period_new_value:str):\n",
    "    search_pattern = create_value_expression(period_pattern)\n",
    "    new_value = create_value_expression(period_new_value)\n",
    "    return re.sub(search_pattern, new_value, text)\n",
    "\n",
    "\n",
    "def create_value_expression(value:str):\n",
    "    return '\"Value\": \"\\'{}\\'\"'.format(value)"
   ]
  },
  {
   "attachments": {},
   "cell_type": "markdown",
   "metadata": {},
   "source": [
    "5. Replacing the patterns in the `Layout` file"
   ]
  },
  {
   "cell_type": "code",
   "execution_count": 78,
   "metadata": {},
   "outputs": [],
   "source": [
    "for (pattern, new_value) in PERIOD_REPLACEMENTS:\n",
    "    layout_data = replace_period(layout_data, pattern, new_value)"
   ]
  },
  {
   "cell_type": "code",
   "execution_count": 65,
   "metadata": {},
   "outputs": [
    {
     "name": "stdout",
     "output_type": "stream",
     "text": [
      "[]\n"
     ]
    }
   ],
   "source": [
    "print(re.findall(r'\"Value\": \"\\'2023\\'\"', layout_data))"
   ]
  },
  {
   "attachments": {},
   "cell_type": "markdown",
   "metadata": {},
   "source": [
    "##### 6. Assemble the new .pbix file"
   ]
  },
  {
   "cell_type": "code",
   "execution_count": 49,
   "metadata": {},
   "outputs": [],
   "source": [
    "result_pbix_file_path = os.path.join(RESULTS_PATH, pbix_file_name + \".pbix\")\n",
    "                                     \n",
    "with ZipFile(result_pbix_file_path, mode=\"w\") as result_pbix_archive:\n",
    "    for folderName, subfolders, filenames in os.walk(temp_dir_path):\n",
    "        for filename in filenames:\n",
    "            # create complete filepath of file in directory\n",
    "            temp_dir_file_path = os.path.join(folderName, filename)\n",
    "            # path for the archive hierarchy\n",
    "            archive_path = temp_dir_file_path[len(temp_dir_path)+1:]\n",
    "            # selecting the compression mode depending on archive file type\n",
    "            file_compression_mode = result_pbix_archive.ZIP_STORED if filename == \"DataModel\" else result_pbix_archive.ZIP_DEFLATED\n",
    "            # writing the file to result archive\n",
    "            result_pbix_archive.write(temp_dir_file_path, arcname=archive_path, compress_type=file_compression_mode)"
   ]
  },
  {
   "cell_type": "code",
   "execution_count": 8,
   "metadata": {},
   "outputs": [
    {
     "name": "stdout",
     "output_type": "stream",
     "text": [
      "c:\\Users\\Kateryna_Nemchenko\\Desktop\\Bookmark Updates\\ws1    Asia Regional Dashboard-GCL v3.pbix    []\n",
      "c:\\Users\\Kateryna_Nemchenko\\Desktop\\Bookmark Updates\\ws1    test.pbix    []\n",
      "c:\\Users\\Kateryna_Nemchenko\\Desktop\\Bookmark Updates\\ws2    Asia Regional Dashboard-GCL v3.pbix    []\n",
      "c:\\Users\\Kateryna_Nemchenko\\Desktop\\Bookmark Updates\\ws2    test.pbix    []\n"
     ]
    }
   ],
   "source": [
    "for directory_path, _, filenames in os.walk(WORKSPACE_PATH):\n",
    "    for filename in filenames:\n",
    "        if filename[-5:] == \".pbix\" and RESULTS_PATH not in directory_path and TEMP_PATH not in directory_path:\n",
    "            subdirectory_path = directory_path[len(WORKSPACE_PATH) + 1:]\n",
    "            print(directory_path, filename, subfolders, sep=\"    \")\n"
   ]
  },
  {
   "cell_type": "code",
   "execution_count": 19,
   "metadata": {},
   "outputs": [
    {
     "name": "stdout",
     "output_type": "stream",
     "text": [
      "c:\\Users\\Kateryna_Nemchenko\\Desktop\\Bookmark Updates\\result\\ws1\\test.pbix\n",
      "c:\\Users\\Kateryna_Nemchenko\\Desktop\\Bookmark Updates\\temp\\ws1\\test\n"
     ]
    }
   ],
   "source": [
    "subdirectory = \"ws1\"\n",
    "filename = \"test.pbix\"\n",
    "result_pbix_file_path = os.path.join(RESULTS_PATH, subdirectory, filename)\n",
    "temporary_files_path = os.path.join(TEMP_PATH, subdirectory, filename[:-5])\n",
    "print(result_pbix_file_path)\n",
    "print(os.path.join(temporary_files_path))\n",
    "\n"
   ]
  },
  {
   "cell_type": "code",
   "execution_count": 30,
   "metadata": {},
   "outputs": [
    {
     "name": "stdout",
     "output_type": "stream",
     "text": [
      "c:\\Users\\Kateryna_Nemchenko\\Desktop\\Bookmark Updates\\temp\\ws1\\test ['DataModel', 'DiagramLayout', 'Metadata', 'Settings', 'Version', '[Content_Types].xml']\n",
      "c:\\Users\\Kateryna_Nemchenko\\Desktop\\Bookmark Updates\\temp\\ws1\\test\\DataModel\tDataModel\n",
      "\n",
      "c:\\Users\\Kateryna_Nemchenko\\Desktop\\Bookmark Updates\\temp\\ws1\\test\\DiagramLayout\tDiagramLayout\n",
      "\n",
      "c:\\Users\\Kateryna_Nemchenko\\Desktop\\Bookmark Updates\\temp\\ws1\\test\\Metadata\tMetadata\n",
      "\n",
      "c:\\Users\\Kateryna_Nemchenko\\Desktop\\Bookmark Updates\\temp\\ws1\\test\\Settings\tSettings\n",
      "\n",
      "c:\\Users\\Kateryna_Nemchenko\\Desktop\\Bookmark Updates\\temp\\ws1\\test\\Version\tVersion\n",
      "\n",
      "c:\\Users\\Kateryna_Nemchenko\\Desktop\\Bookmark Updates\\temp\\ws1\\test\\[Content_Types].xml\t[Content_Types].xml\n",
      "\n",
      "c:\\Users\\Kateryna_Nemchenko\\Desktop\\Bookmark Updates\\temp\\ws1\\test\\Report ['Layout']\n",
      "c:\\Users\\Kateryna_Nemchenko\\Desktop\\Bookmark Updates\\temp\\ws1\\test\\Report\\Layout\tReport\\Layout\n",
      "\n",
      "c:\\Users\\Kateryna_Nemchenko\\Desktop\\Bookmark Updates\\temp\\ws1\\test\\Report\\StaticResources []\n",
      "c:\\Users\\Kateryna_Nemchenko\\Desktop\\Bookmark Updates\\temp\\ws1\\test\\Report\\StaticResources\\SharedResources []\n",
      "c:\\Users\\Kateryna_Nemchenko\\Desktop\\Bookmark Updates\\temp\\ws1\\test\\Report\\StaticResources\\SharedResources\\BaseThemes ['CY22SU11.json']\n",
      "c:\\Users\\Kateryna_Nemchenko\\Desktop\\Bookmark Updates\\temp\\ws1\\test\\Report\\StaticResources\\SharedResources\\BaseThemes\\CY22SU11.json\tReport\\StaticResources\\SharedResources\\BaseThemes\\CY22SU11.json\n",
      "\n"
     ]
    }
   ],
   "source": [
    "import zipfile\n",
    "\n",
    "with ZipFile(result_pbix_file_path, mode=\"w\") as result_pbix_archive:\n",
    "    for directory_path, _, filenames in os.walk(temporary_files_path):\n",
    "        print(directory_path, filenames)\n",
    "        for filename in filenames:\n",
    "            # create complete filepath of file in directory\n",
    "            temp_dir_file_path = os.path.join(directory_path, filename)\n",
    "            # path for the archive hierarchy\n",
    "            archive_path = temp_dir_file_path[len(temporary_files_path)+1:]\n",
    "            # selecting the compression mode depending on archive file type\n",
    "            file_compression_mode = zipfile.ZIP_STORED if filename == \"DataModel\" else zipfile.ZIP_DEFLATED\n",
    "            # writing the file to result archive\n",
    "            print(temp_dir_file_path, archive_path, sep=\"\\t\")\n",
    "            print()\n",
    "            result_pbix_archive.write(temp_dir_file_path, arcname=archive_path, compress_type=file_compression_mode)"
   ]
  },
  {
   "cell_type": "code",
   "execution_count": 25,
   "metadata": {},
   "outputs": [
    {
     "data": {
      "text/plain": [
       "[(\"'(Jan|Feb|Mar|Apr|May|Jun|Jul|Aug|Sep|Oct|Nov|Dec)'\", 'Feb'),\n",
       " (\"'\\\\d{1,2}月'\", \"'2'月\"),\n",
       " (\"'Q [1-4]'\", \"'Q 1'\"),\n",
       " (\"'Q[1-4]'\", \"'Q1'\"),\n",
       " (\"'[1-4]季度'\", \"'1季度'\"),\n",
       " ('2023L', '2023L')]"
      ]
     },
     "execution_count": 25,
     "metadata": {},
     "output_type": "execute_result"
    }
   ],
   "source": [
    "def get_patterns_and_replacements(cli_arg_year, cli_arg_month):\n",
    "    if not cli_arg_month and not cli_arg_year:\n",
    "        current_date = datetime.date.today()\n",
    "        period_for_new_values = current_date - datetime.timedelta(days=current_date.day)\n",
    "    else:\n",
    "        period_for_new_values = datetime.date(cli_arg_year, cli_arg_month, 1)\n",
    "    \n",
    "    previous_month = period_for_new_values - datetime.timedelta(days=period_for_new_values.day)\n",
    "\n",
    "    NEW_VALUE_YEAR = period_for_new_values.year\n",
    "    NEW_VALUE_MONTH = period_for_new_values.month\n",
    "    NEW_VALUE_MONTH_ABBR = calendar.month_abbr[NEW_VALUE_MONTH]\n",
    "    NEW_VALUE_QUARTER = (NEW_VALUE_MONTH + 2) // 3\n",
    "\n",
    "    period_replacements = [\n",
    "        # pattern, new value\n",
    "        (\"'(Jan|Feb|Mar|Apr|May|Jun|Jul|Aug|Sep|Oct|Nov|Dec)'\", NEW_VALUE_MONTH_ABBR),  # month eng\n",
    "        (\"'\\d{1,2}月'\", \"'{}'月\".format(NEW_VALUE_MONTH)),   # month chn\n",
    "        (\"'Q [1-4]'\",   \"'Q {}'\".format(NEW_VALUE_QUARTER)),   # quarter eng (with space)\n",
    "        (\"'Q[1-4]'\",    \"'Q{}'\".format(NEW_VALUE_QUARTER)),     # quarter eng (without space)\n",
    "        (\"'[1-4]季度'\", \"'{}季度'\".format(NEW_VALUE_QUARTER)),  # quarter chn\n",
    "        (\"{}L\".format(previous_month.year), \"{}L\".format(NEW_VALUE_YEAR))  # year\n",
    "    ]\n",
    "    return period_replacements\n",
    "\n",
    "period_replacements = get_patterns_and_replacements(None, None)\n",
    "period_replacements\n"
   ]
  },
  {
   "cell_type": "code",
   "execution_count": 19,
   "metadata": {},
   "outputs": [
    {
     "name": "stdout",
     "output_type": "stream",
     "text": [
      "\n",
      "PATTERNS\n",
      "'(Jan|Feb|Mar|Apr|May|Jun|Jul|Aug|Sep|Oct|Nov|Dec)'  ->  Feb\n",
      "'\\d{1,2}月'  ->  '2'月\n",
      "'Q [1-4]'  ->  'Q 1'\n",
      "'Q[1-4]'  ->  'Q1'\n",
      "'[1-4]季度'  ->  '1季度'\n",
      "2023L  ->  2023L\n"
     ]
    }
   ],
   "source": [
    "print(\"\\nPATTERNS\")\n",
    "for period_pattern, period_new_value in period_replacements:\n",
    "    print(\"{}  ->  {}\".format(period_pattern, period_new_value))"
   ]
  },
  {
   "cell_type": "code",
   "execution_count": 26,
   "metadata": {},
   "outputs": [],
   "source": [
    "def replace_period(text, period_pattern, period_new_value):\n",
    "    # The should be deffirent for search and replacement operations\n",
    "    search_pattern = r'\\\\\"Value\\\\\":\\\\\"{}\\\\\"'.format(period_pattern)\n",
    "    new_value = r'\\\\\"Value\\\\\":\\\\\"{}\\\\\"'.format(period_new_value)\n",
    "    return re.sub(search_pattern, new_value, text)"
   ]
  },
  {
   "cell_type": "code",
   "execution_count": 28,
   "metadata": {},
   "outputs": [
    {
     "name": "stdout",
     "output_type": "stream",
     "text": [
      "\\\\\"Value\\\\\":\\\\\"2023L\\\\\"\n",
      "\\\"Value\\\":\\\"2023L\\\"\n",
      "['\\\\\"Value\\\\\":\\\\\"2023L\\\\\"', '\\\\\"Value\\\\\":\\\\\"2023L\\\\\"', '\\\\\"Value\\\\\":\\\\\"2023L\\\\\"', '\\\\\"Value\\\\\":\\\\\"2023L\\\\\"', '\\\\\"Value\\\\\":\\\\\"2023L\\\\\"', '\\\\\"Value\\\\\":\\\\\"2023L\\\\\"', '\\\\\"Value\\\\\":\\\\\"2023L\\\\\"', '\\\\\"Value\\\\\":\\\\\"2023L\\\\\"', '\\\\\"Value\\\\\":\\\\\"2023L\\\\\"', '\\\\\"Value\\\\\":\\\\\"2023L\\\\\"', '\\\\\"Value\\\\\":\\\\\"2023L\\\\\"', '\\\\\"Value\\\\\":\\\\\"2023L\\\\\"', '\\\\\"Value\\\\\":\\\\\"2023L\\\\\"', '\\\\\"Value\\\\\":\\\\\"2023L\\\\\"', '\\\\\"Value\\\\\":\\\\\"2023L\\\\\"', '\\\\\"Value\\\\\":\\\\\"2023L\\\\\"', '\\\\\"Value\\\\\":\\\\\"2023L\\\\\"', '\\\\\"Value\\\\\":\\\\\"2023L\\\\\"', '\\\\\"Value\\\\\":\\\\\"2023L\\\\\"', '\\\\\"Value\\\\\":\\\\\"2023L\\\\\"', '\\\\\"Value\\\\\":\\\\\"2023L\\\\\"', '\\\\\"Value\\\\\":\\\\\"2023L\\\\\"', '\\\\\"Value\\\\\":\\\\\"2023L\\\\\"', '\\\\\"Value\\\\\":\\\\\"2023L\\\\\"', '\\\\\"Value\\\\\":\\\\\"2023L\\\\\"', '\\\\\"Value\\\\\":\\\\\"2023L\\\\\"', '\\\\\"Value\\\\\":\\\\\"2023L\\\\\"', '\\\\\"Value\\\\\":\\\\\"2023L\\\\\"', '\\\\\"Value\\\\\":\\\\\"2023L\\\\\"', '\\\\\"Value\\\\\":\\\\\"2023L\\\\\"', '\\\\\"Value\\\\\":\\\\\"2023L\\\\\"', '\\\\\"Value\\\\\":\\\\\"2023L\\\\\"', '\\\\\"Value\\\\\":\\\\\"2023L\\\\\"', '\\\\\"Value\\\\\":\\\\\"2023L\\\\\"', '\\\\\"Value\\\\\":\\\\\"2023L\\\\\"', '\\\\\"Value\\\\\":\\\\\"2023L\\\\\"', '\\\\\"Value\\\\\":\\\\\"2023L\\\\\"', '\\\\\"Value\\\\\":\\\\\"2023L\\\\\"', '\\\\\"Value\\\\\":\\\\\"2023L\\\\\"', '\\\\\"Value\\\\\":\\\\\"2023L\\\\\"', '\\\\\"Value\\\\\":\\\\\"2023L\\\\\"', '\\\\\"Value\\\\\":\\\\\"2023L\\\\\"', '\\\\\"Value\\\\\":\\\\\"2023L\\\\\"', '\\\\\"Value\\\\\":\\\\\"2023L\\\\\"', '\\\\\"Value\\\\\":\\\\\"2023L\\\\\"', '\\\\\"Value\\\\\":\\\\\"2023L\\\\\"', '\\\\\"Value\\\\\":\\\\\"2023L\\\\\"', '\\\\\"Value\\\\\":\\\\\"2023L\\\\\"', '\\\\\"Value\\\\\":\\\\\"2023L\\\\\"', '\\\\\"Value\\\\\":\\\\\"2023L\\\\\"', '\\\\\"Value\\\\\":\\\\\"2023L\\\\\"', '\\\\\"Value\\\\\":\\\\\"2023L\\\\\"', '\\\\\"Value\\\\\":\\\\\"2023L\\\\\"', '\\\\\"Value\\\\\":\\\\\"2023L\\\\\"', '\\\\\"Value\\\\\":\\\\\"2023L\\\\\"', '\\\\\"Value\\\\\":\\\\\"2023L\\\\\"', '\\\\\"Value\\\\\":\\\\\"2023L\\\\\"', '\\\\\"Value\\\\\":\\\\\"2023L\\\\\"', '\\\\\"Value\\\\\":\\\\\"2023L\\\\\"', '\\\\\"Value\\\\\":\\\\\"2023L\\\\\"', '\\\\\"Value\\\\\":\\\\\"2023L\\\\\"', '\\\\\"Value\\\\\":\\\\\"2023L\\\\\"', '\\\\\"Value\\\\\":\\\\\"2023L\\\\\"', '\\\\\"Value\\\\\":\\\\\"2023L\\\\\"', '\\\\\"Value\\\\\":\\\\\"2023L\\\\\"', '\\\\\"Value\\\\\":\\\\\"2023L\\\\\"', '\\\\\"Value\\\\\":\\\\\"2023L\\\\\"', '\\\\\"Value\\\\\":\\\\\"2023L\\\\\"', '\\\\\"Value\\\\\":\\\\\"2023L\\\\\"', '\\\\\"Value\\\\\":\\\\\"2023L\\\\\"', '\\\\\"Value\\\\\":\\\\\"2023L\\\\\"', '\\\\\"Value\\\\\":\\\\\"2023L\\\\\"', '\\\\\"Value\\\\\":\\\\\"2023L\\\\\"', '\\\\\"Value\\\\\":\\\\\"2023L\\\\\"', '\\\\\"Value\\\\\":\\\\\"2023L\\\\\"', '\\\\\"Value\\\\\":\\\\\"2023L\\\\\"', '\\\\\"Value\\\\\":\\\\\"2023L\\\\\"', '\\\\\"Value\\\\\":\\\\\"2023L\\\\\"', '\\\\\"Value\\\\\":\\\\\"2023L\\\\\"', '\\\\\"Value\\\\\":\\\\\"2023L\\\\\"', '\\\\\"Value\\\\\":\\\\\"2023L\\\\\"', '\\\\\"Value\\\\\":\\\\\"2023L\\\\\"', '\\\\\"Value\\\\\":\\\\\"2023L\\\\\"', '\\\\\"Value\\\\\":\\\\\"2023L\\\\\"', '\\\\\"Value\\\\\":\\\\\"2023L\\\\\"', '\\\\\"Value\\\\\":\\\\\"2023L\\\\\"', '\\\\\"Value\\\\\":\\\\\"2023L\\\\\"', '\\\\\"Value\\\\\":\\\\\"2023L\\\\\"', '\\\\\"Value\\\\\":\\\\\"2023L\\\\\"', '\\\\\"Value\\\\\":\\\\\"2023L\\\\\"', '\\\\\"Value\\\\\":\\\\\"2023L\\\\\"', '\\\\\"Value\\\\\":\\\\\"2023L\\\\\"', '\\\\\"Value\\\\\":\\\\\"2023L\\\\\"', '\\\\\"Value\\\\\":\\\\\"2023L\\\\\"', '\\\\\"Value\\\\\":\\\\\"2023L\\\\\"', '\\\\\"Value\\\\\":\\\\\"2023L\\\\\"', '\\\\\"Value\\\\\":\\\\\"2023L\\\\\"', '\\\\\"Value\\\\\":\\\\\"2023L\\\\\"', '\\\\\"Value\\\\\":\\\\\"2023L\\\\\"', '\\\\\"Value\\\\\":\\\\\"2023L\\\\\"', '\\\\\"Value\\\\\":\\\\\"2023L\\\\\"', '\\\\\"Value\\\\\":\\\\\"2023L\\\\\"', '\\\\\"Value\\\\\":\\\\\"2023L\\\\\"', '\\\\\"Value\\\\\":\\\\\"2023L\\\\\"', '\\\\\"Value\\\\\":\\\\\"2023L\\\\\"', '\\\\\"Value\\\\\":\\\\\"2023L\\\\\"', '\\\\\"Value\\\\\":\\\\\"2023L\\\\\"', '\\\\\"Value\\\\\":\\\\\"2023L\\\\\"', '\\\\\"Value\\\\\":\\\\\"2023L\\\\\"', '\\\\\"Value\\\\\":\\\\\"2023L\\\\\"', '\\\\\"Value\\\\\":\\\\\"2023L\\\\\"', '\\\\\"Value\\\\\":\\\\\"2023L\\\\\"', '\\\\\"Value\\\\\":\\\\\"2023L\\\\\"', '\\\\\"Value\\\\\":\\\\\"2023L\\\\\"', '\\\\\"Value\\\\\":\\\\\"2023L\\\\\"', '\\\\\"Value\\\\\":\\\\\"2023L\\\\\"', '\\\\\"Value\\\\\":\\\\\"2023L\\\\\"', '\\\\\"Value\\\\\":\\\\\"2023L\\\\\"', '\\\\\"Value\\\\\":\\\\\"2023L\\\\\"', '\\\\\"Value\\\\\":\\\\\"2023L\\\\\"', '\\\\\"Value\\\\\":\\\\\"2023L\\\\\"', '\\\\\"Value\\\\\":\\\\\"2023L\\\\\"', '\\\\\"Value\\\\\":\\\\\"2023L\\\\\"', '\\\\\"Value\\\\\":\\\\\"2023L\\\\\"', '\\\\\"Value\\\\\":\\\\\"2023L\\\\\"', '\\\\\"Value\\\\\":\\\\\"2023L\\\\\"', '\\\\\"Value\\\\\":\\\\\"2023L\\\\\"', '\\\\\"Value\\\\\":\\\\\"2023L\\\\\"', '\\\\\"Value\\\\\":\\\\\"2023L\\\\\"', '\\\\\"Value\\\\\":\\\\\"2023L\\\\\"', '\\\\\"Value\\\\\":\\\\\"2023L\\\\\"', '\\\\\"Value\\\\\":\\\\\"2023L\\\\\"', '\\\\\"Value\\\\\":\\\\\"2023L\\\\\"', '\\\\\"Value\\\\\":\\\\\"2023L\\\\\"', '\\\\\"Value\\\\\":\\\\\"2023L\\\\\"', '\\\\\"Value\\\\\":\\\\\"2023L\\\\\"', '\\\\\"Value\\\\\":\\\\\"2023L\\\\\"', '\\\\\"Value\\\\\":\\\\\"2023L\\\\\"', '\\\\\"Value\\\\\":\\\\\"2023L\\\\\"', '\\\\\"Value\\\\\":\\\\\"2023L\\\\\"', '\\\\\"Value\\\\\":\\\\\"2023L\\\\\"', '\\\\\"Value\\\\\":\\\\\"2023L\\\\\"', '\\\\\"Value\\\\\":\\\\\"2023L\\\\\"', '\\\\\"Value\\\\\":\\\\\"2023L\\\\\"', '\\\\\"Value\\\\\":\\\\\"2023L\\\\\"', '\\\\\"Value\\\\\":\\\\\"2023L\\\\\"', '\\\\\"Value\\\\\":\\\\\"2023L\\\\\"', '\\\\\"Value\\\\\":\\\\\"2023L\\\\\"', '\\\\\"Value\\\\\":\\\\\"2023L\\\\\"', '\\\\\"Value\\\\\":\\\\\"2023L\\\\\"']\n",
      "Expression\\\":{\\\"SourceRef\\\":{\\\"Source\\\":\\\"d\\\"}},\\\"Property\\\":\\\"Year\\\"}}],\\\"Values\\\":[[{\\\"Literal\\\":{\\\"Value\\\":\\\"2023L\\\"}}]]}}}]}}}}],\\\"items\\\":[{\\\"properties\\\":{\\\"textSize\\\":{\\\"expr\\\":{\\\"Literal\\\":{\\\"\n",
      "Expression\\\":{\\\"SourceRef\\\":{\\\"Source\\\":\\\"d\\\"}},\\\"Property\\\":\\\"Year\\\"}}],\\\"Values\\\":[[{\\\"Literal\\\":{\\\"Value\\\":\\\"2023L\\\"}}]]}}}]}}}}],\\\"items\\\":[{\\\"properties\\\":{\\\"textSize\\\":{\\\"expr\\\":{\\\"Literal\\\":{\\\"\n",
      "\n",
      "\\\\\"Value\\\\\":\\\\\"2023L\\\\\"\n",
      "\\\"Value\\\":\\\"2023L\\\"\n",
      "['\\\\\"Value\\\\\":\\\\\"2023L\\\\\"', '\\\\\"Value\\\\\":\\\\\"2023L\\\\\"', '\\\\\"Value\\\\\":\\\\\"2023L\\\\\"', '\\\\\"Value\\\\\":\\\\\"2023L\\\\\"', '\\\\\"Value\\\\\":\\\\\"2023L\\\\\"', '\\\\\"Value\\\\\":\\\\\"2023L\\\\\"', '\\\\\"Value\\\\\":\\\\\"2023L\\\\\"', '\\\\\"Value\\\\\":\\\\\"2023L\\\\\"', '\\\\\"Value\\\\\":\\\\\"2023L\\\\\"', '\\\\\"Value\\\\\":\\\\\"2023L\\\\\"', '\\\\\"Value\\\\\":\\\\\"2023L\\\\\"', '\\\\\"Value\\\\\":\\\\\"2023L\\\\\"', '\\\\\"Value\\\\\":\\\\\"2023L\\\\\"', '\\\\\"Value\\\\\":\\\\\"2023L\\\\\"', '\\\\\"Value\\\\\":\\\\\"2023L\\\\\"', '\\\\\"Value\\\\\":\\\\\"2023L\\\\\"', '\\\\\"Value\\\\\":\\\\\"2023L\\\\\"', '\\\\\"Value\\\\\":\\\\\"2023L\\\\\"', '\\\\\"Value\\\\\":\\\\\"2023L\\\\\"', '\\\\\"Value\\\\\":\\\\\"2023L\\\\\"', '\\\\\"Value\\\\\":\\\\\"2023L\\\\\"', '\\\\\"Value\\\\\":\\\\\"2023L\\\\\"', '\\\\\"Value\\\\\":\\\\\"2023L\\\\\"', '\\\\\"Value\\\\\":\\\\\"2023L\\\\\"', '\\\\\"Value\\\\\":\\\\\"2023L\\\\\"', '\\\\\"Value\\\\\":\\\\\"2023L\\\\\"', '\\\\\"Value\\\\\":\\\\\"2023L\\\\\"', '\\\\\"Value\\\\\":\\\\\"2023L\\\\\"', '\\\\\"Value\\\\\":\\\\\"2023L\\\\\"', '\\\\\"Value\\\\\":\\\\\"2023L\\\\\"', '\\\\\"Value\\\\\":\\\\\"2023L\\\\\"', '\\\\\"Value\\\\\":\\\\\"2023L\\\\\"', '\\\\\"Value\\\\\":\\\\\"2023L\\\\\"', '\\\\\"Value\\\\\":\\\\\"2023L\\\\\"', '\\\\\"Value\\\\\":\\\\\"2023L\\\\\"', '\\\\\"Value\\\\\":\\\\\"2023L\\\\\"', '\\\\\"Value\\\\\":\\\\\"2023L\\\\\"', '\\\\\"Value\\\\\":\\\\\"2023L\\\\\"', '\\\\\"Value\\\\\":\\\\\"2023L\\\\\"', '\\\\\"Value\\\\\":\\\\\"2023L\\\\\"', '\\\\\"Value\\\\\":\\\\\"2023L\\\\\"', '\\\\\"Value\\\\\":\\\\\"2023L\\\\\"', '\\\\\"Value\\\\\":\\\\\"2023L\\\\\"', '\\\\\"Value\\\\\":\\\\\"2023L\\\\\"', '\\\\\"Value\\\\\":\\\\\"2023L\\\\\"', '\\\\\"Value\\\\\":\\\\\"2023L\\\\\"', '\\\\\"Value\\\\\":\\\\\"2023L\\\\\"', '\\\\\"Value\\\\\":\\\\\"2023L\\\\\"', '\\\\\"Value\\\\\":\\\\\"2023L\\\\\"', '\\\\\"Value\\\\\":\\\\\"2023L\\\\\"', '\\\\\"Value\\\\\":\\\\\"2023L\\\\\"', '\\\\\"Value\\\\\":\\\\\"2023L\\\\\"', '\\\\\"Value\\\\\":\\\\\"2023L\\\\\"', '\\\\\"Value\\\\\":\\\\\"2023L\\\\\"', '\\\\\"Value\\\\\":\\\\\"2023L\\\\\"', '\\\\\"Value\\\\\":\\\\\"2023L\\\\\"', '\\\\\"Value\\\\\":\\\\\"2023L\\\\\"', '\\\\\"Value\\\\\":\\\\\"2023L\\\\\"', '\\\\\"Value\\\\\":\\\\\"2023L\\\\\"', '\\\\\"Value\\\\\":\\\\\"2023L\\\\\"', '\\\\\"Value\\\\\":\\\\\"2023L\\\\\"', '\\\\\"Value\\\\\":\\\\\"2023L\\\\\"', '\\\\\"Value\\\\\":\\\\\"2023L\\\\\"', '\\\\\"Value\\\\\":\\\\\"2023L\\\\\"', '\\\\\"Value\\\\\":\\\\\"2023L\\\\\"', '\\\\\"Value\\\\\":\\\\\"2023L\\\\\"', '\\\\\"Value\\\\\":\\\\\"2023L\\\\\"', '\\\\\"Value\\\\\":\\\\\"2023L\\\\\"', '\\\\\"Value\\\\\":\\\\\"2023L\\\\\"', '\\\\\"Value\\\\\":\\\\\"2023L\\\\\"', '\\\\\"Value\\\\\":\\\\\"2023L\\\\\"', '\\\\\"Value\\\\\":\\\\\"2023L\\\\\"', '\\\\\"Value\\\\\":\\\\\"2023L\\\\\"', '\\\\\"Value\\\\\":\\\\\"2023L\\\\\"', '\\\\\"Value\\\\\":\\\\\"2023L\\\\\"', '\\\\\"Value\\\\\":\\\\\"2023L\\\\\"', '\\\\\"Value\\\\\":\\\\\"2023L\\\\\"', '\\\\\"Value\\\\\":\\\\\"2023L\\\\\"', '\\\\\"Value\\\\\":\\\\\"2023L\\\\\"', '\\\\\"Value\\\\\":\\\\\"2023L\\\\\"', '\\\\\"Value\\\\\":\\\\\"2023L\\\\\"', '\\\\\"Value\\\\\":\\\\\"2023L\\\\\"', '\\\\\"Value\\\\\":\\\\\"2023L\\\\\"', '\\\\\"Value\\\\\":\\\\\"2023L\\\\\"', '\\\\\"Value\\\\\":\\\\\"2023L\\\\\"', '\\\\\"Value\\\\\":\\\\\"2023L\\\\\"', '\\\\\"Value\\\\\":\\\\\"2023L\\\\\"', '\\\\\"Value\\\\\":\\\\\"2023L\\\\\"', '\\\\\"Value\\\\\":\\\\\"2023L\\\\\"', '\\\\\"Value\\\\\":\\\\\"2023L\\\\\"', '\\\\\"Value\\\\\":\\\\\"2023L\\\\\"', '\\\\\"Value\\\\\":\\\\\"2023L\\\\\"', '\\\\\"Value\\\\\":\\\\\"2023L\\\\\"', '\\\\\"Value\\\\\":\\\\\"2023L\\\\\"', '\\\\\"Value\\\\\":\\\\\"2023L\\\\\"', '\\\\\"Value\\\\\":\\\\\"2023L\\\\\"', '\\\\\"Value\\\\\":\\\\\"2023L\\\\\"', '\\\\\"Value\\\\\":\\\\\"2023L\\\\\"', '\\\\\"Value\\\\\":\\\\\"2023L\\\\\"', '\\\\\"Value\\\\\":\\\\\"2023L\\\\\"', '\\\\\"Value\\\\\":\\\\\"2023L\\\\\"', '\\\\\"Value\\\\\":\\\\\"2023L\\\\\"', '\\\\\"Value\\\\\":\\\\\"2023L\\\\\"', '\\\\\"Value\\\\\":\\\\\"2023L\\\\\"', '\\\\\"Value\\\\\":\\\\\"2023L\\\\\"', '\\\\\"Value\\\\\":\\\\\"2023L\\\\\"', '\\\\\"Value\\\\\":\\\\\"2023L\\\\\"', '\\\\\"Value\\\\\":\\\\\"2023L\\\\\"', '\\\\\"Value\\\\\":\\\\\"2023L\\\\\"', '\\\\\"Value\\\\\":\\\\\"2023L\\\\\"', '\\\\\"Value\\\\\":\\\\\"2023L\\\\\"', '\\\\\"Value\\\\\":\\\\\"2023L\\\\\"', '\\\\\"Value\\\\\":\\\\\"2023L\\\\\"', '\\\\\"Value\\\\\":\\\\\"2023L\\\\\"', '\\\\\"Value\\\\\":\\\\\"2023L\\\\\"', '\\\\\"Value\\\\\":\\\\\"2023L\\\\\"', '\\\\\"Value\\\\\":\\\\\"2023L\\\\\"', '\\\\\"Value\\\\\":\\\\\"2023L\\\\\"', '\\\\\"Value\\\\\":\\\\\"2023L\\\\\"', '\\\\\"Value\\\\\":\\\\\"2023L\\\\\"', '\\\\\"Value\\\\\":\\\\\"2023L\\\\\"', '\\\\\"Value\\\\\":\\\\\"2023L\\\\\"', '\\\\\"Value\\\\\":\\\\\"2023L\\\\\"', '\\\\\"Value\\\\\":\\\\\"2023L\\\\\"', '\\\\\"Value\\\\\":\\\\\"2023L\\\\\"', '\\\\\"Value\\\\\":\\\\\"2023L\\\\\"', '\\\\\"Value\\\\\":\\\\\"2023L\\\\\"', '\\\\\"Value\\\\\":\\\\\"2023L\\\\\"', '\\\\\"Value\\\\\":\\\\\"2023L\\\\\"', '\\\\\"Value\\\\\":\\\\\"2023L\\\\\"', '\\\\\"Value\\\\\":\\\\\"2023L\\\\\"', '\\\\\"Value\\\\\":\\\\\"2023L\\\\\"', '\\\\\"Value\\\\\":\\\\\"2023L\\\\\"', '\\\\\"Value\\\\\":\\\\\"2023L\\\\\"', '\\\\\"Value\\\\\":\\\\\"2023L\\\\\"', '\\\\\"Value\\\\\":\\\\\"2023L\\\\\"', '\\\\\"Value\\\\\":\\\\\"2023L\\\\\"', '\\\\\"Value\\\\\":\\\\\"2023L\\\\\"', '\\\\\"Value\\\\\":\\\\\"2023L\\\\\"', '\\\\\"Value\\\\\":\\\\\"2023L\\\\\"', '\\\\\"Value\\\\\":\\\\\"2023L\\\\\"', '\\\\\"Value\\\\\":\\\\\"2023L\\\\\"', '\\\\\"Value\\\\\":\\\\\"2023L\\\\\"', '\\\\\"Value\\\\\":\\\\\"2023L\\\\\"', '\\\\\"Value\\\\\":\\\\\"2023L\\\\\"', '\\\\\"Value\\\\\":\\\\\"2023L\\\\\"', '\\\\\"Value\\\\\":\\\\\"2023L\\\\\"', '\\\\\"Value\\\\\":\\\\\"2023L\\\\\"', '\\\\\"Value\\\\\":\\\\\"2023L\\\\\"', '\\\\\"Value\\\\\":\\\\\"2023L\\\\\"']\n",
      "Expression\\\":{\\\"SourceRef\\\":{\\\"Source\\\":\\\"d\\\"}},\\\"Property\\\":\\\"Year\\\"}}],\\\"Values\\\":[[{\\\"Literal\\\":{\\\"Value\\\":\\\"2023L\\\"}}]]}}}]}}}}],\\\"items\\\":[{\\\"properties\\\":{\\\"textSize\\\":{\\\"expr\\\":{\\\"Literal\\\":{\\\"\n",
      "Expression\\\":{\\\"SourceRef\\\":{\\\"Source\\\":\\\"d\\\"}},\\\"Property\\\":\\\"Year\\\"}}],\\\"Values\\\":[[{\\\"Literal\\\":{\\\"Value\\\":\\\"2023L\\\"}}]]}}}]}}}}],\\\"items\\\":[{\\\"properties\\\":{\\\"textSize\\\":{\\\"expr\\\":{\\\"Literal\\\":{\\\"\n",
      "\n",
      "\\\\\"Value\\\\\":\\\\\"2023L\\\\\"\n",
      "\\\"Value\\\":\\\"2023L\\\"\n",
      "['\\\\\"Value\\\\\":\\\\\"2023L\\\\\"', '\\\\\"Value\\\\\":\\\\\"2023L\\\\\"', '\\\\\"Value\\\\\":\\\\\"2023L\\\\\"', '\\\\\"Value\\\\\":\\\\\"2023L\\\\\"', '\\\\\"Value\\\\\":\\\\\"2023L\\\\\"', '\\\\\"Value\\\\\":\\\\\"2023L\\\\\"', '\\\\\"Value\\\\\":\\\\\"2023L\\\\\"', '\\\\\"Value\\\\\":\\\\\"2023L\\\\\"', '\\\\\"Value\\\\\":\\\\\"2023L\\\\\"', '\\\\\"Value\\\\\":\\\\\"2023L\\\\\"', '\\\\\"Value\\\\\":\\\\\"2023L\\\\\"', '\\\\\"Value\\\\\":\\\\\"2023L\\\\\"', '\\\\\"Value\\\\\":\\\\\"2023L\\\\\"', '\\\\\"Value\\\\\":\\\\\"2023L\\\\\"', '\\\\\"Value\\\\\":\\\\\"2023L\\\\\"', '\\\\\"Value\\\\\":\\\\\"2023L\\\\\"', '\\\\\"Value\\\\\":\\\\\"2023L\\\\\"', '\\\\\"Value\\\\\":\\\\\"2023L\\\\\"', '\\\\\"Value\\\\\":\\\\\"2023L\\\\\"', '\\\\\"Value\\\\\":\\\\\"2023L\\\\\"', '\\\\\"Value\\\\\":\\\\\"2023L\\\\\"', '\\\\\"Value\\\\\":\\\\\"2023L\\\\\"', '\\\\\"Value\\\\\":\\\\\"2023L\\\\\"', '\\\\\"Value\\\\\":\\\\\"2023L\\\\\"', '\\\\\"Value\\\\\":\\\\\"2023L\\\\\"', '\\\\\"Value\\\\\":\\\\\"2023L\\\\\"', '\\\\\"Value\\\\\":\\\\\"2023L\\\\\"', '\\\\\"Value\\\\\":\\\\\"2023L\\\\\"', '\\\\\"Value\\\\\":\\\\\"2023L\\\\\"', '\\\\\"Value\\\\\":\\\\\"2023L\\\\\"', '\\\\\"Value\\\\\":\\\\\"2023L\\\\\"', '\\\\\"Value\\\\\":\\\\\"2023L\\\\\"', '\\\\\"Value\\\\\":\\\\\"2023L\\\\\"', '\\\\\"Value\\\\\":\\\\\"2023L\\\\\"', '\\\\\"Value\\\\\":\\\\\"2023L\\\\\"', '\\\\\"Value\\\\\":\\\\\"2023L\\\\\"', '\\\\\"Value\\\\\":\\\\\"2023L\\\\\"', '\\\\\"Value\\\\\":\\\\\"2023L\\\\\"', '\\\\\"Value\\\\\":\\\\\"2023L\\\\\"', '\\\\\"Value\\\\\":\\\\\"2023L\\\\\"', '\\\\\"Value\\\\\":\\\\\"2023L\\\\\"', '\\\\\"Value\\\\\":\\\\\"2023L\\\\\"', '\\\\\"Value\\\\\":\\\\\"2023L\\\\\"', '\\\\\"Value\\\\\":\\\\\"2023L\\\\\"', '\\\\\"Value\\\\\":\\\\\"2023L\\\\\"', '\\\\\"Value\\\\\":\\\\\"2023L\\\\\"', '\\\\\"Value\\\\\":\\\\\"2023L\\\\\"', '\\\\\"Value\\\\\":\\\\\"2023L\\\\\"', '\\\\\"Value\\\\\":\\\\\"2023L\\\\\"', '\\\\\"Value\\\\\":\\\\\"2023L\\\\\"', '\\\\\"Value\\\\\":\\\\\"2023L\\\\\"', '\\\\\"Value\\\\\":\\\\\"2023L\\\\\"', '\\\\\"Value\\\\\":\\\\\"2023L\\\\\"', '\\\\\"Value\\\\\":\\\\\"2023L\\\\\"', '\\\\\"Value\\\\\":\\\\\"2023L\\\\\"', '\\\\\"Value\\\\\":\\\\\"2023L\\\\\"', '\\\\\"Value\\\\\":\\\\\"2023L\\\\\"', '\\\\\"Value\\\\\":\\\\\"2023L\\\\\"', '\\\\\"Value\\\\\":\\\\\"2023L\\\\\"', '\\\\\"Value\\\\\":\\\\\"2023L\\\\\"', '\\\\\"Value\\\\\":\\\\\"2023L\\\\\"', '\\\\\"Value\\\\\":\\\\\"2023L\\\\\"', '\\\\\"Value\\\\\":\\\\\"2023L\\\\\"', '\\\\\"Value\\\\\":\\\\\"2023L\\\\\"', '\\\\\"Value\\\\\":\\\\\"2023L\\\\\"', '\\\\\"Value\\\\\":\\\\\"2023L\\\\\"', '\\\\\"Value\\\\\":\\\\\"2023L\\\\\"', '\\\\\"Value\\\\\":\\\\\"2023L\\\\\"', '\\\\\"Value\\\\\":\\\\\"2023L\\\\\"', '\\\\\"Value\\\\\":\\\\\"2023L\\\\\"', '\\\\\"Value\\\\\":\\\\\"2023L\\\\\"', '\\\\\"Value\\\\\":\\\\\"2023L\\\\\"', '\\\\\"Value\\\\\":\\\\\"2023L\\\\\"', '\\\\\"Value\\\\\":\\\\\"2023L\\\\\"', '\\\\\"Value\\\\\":\\\\\"2023L\\\\\"', '\\\\\"Value\\\\\":\\\\\"2023L\\\\\"', '\\\\\"Value\\\\\":\\\\\"2023L\\\\\"', '\\\\\"Value\\\\\":\\\\\"2023L\\\\\"', '\\\\\"Value\\\\\":\\\\\"2023L\\\\\"', '\\\\\"Value\\\\\":\\\\\"2023L\\\\\"', '\\\\\"Value\\\\\":\\\\\"2023L\\\\\"', '\\\\\"Value\\\\\":\\\\\"2023L\\\\\"', '\\\\\"Value\\\\\":\\\\\"2023L\\\\\"', '\\\\\"Value\\\\\":\\\\\"2023L\\\\\"', '\\\\\"Value\\\\\":\\\\\"2023L\\\\\"', '\\\\\"Value\\\\\":\\\\\"2023L\\\\\"', '\\\\\"Value\\\\\":\\\\\"2023L\\\\\"', '\\\\\"Value\\\\\":\\\\\"2023L\\\\\"', '\\\\\"Value\\\\\":\\\\\"2023L\\\\\"', '\\\\\"Value\\\\\":\\\\\"2023L\\\\\"', '\\\\\"Value\\\\\":\\\\\"2023L\\\\\"', '\\\\\"Value\\\\\":\\\\\"2023L\\\\\"', '\\\\\"Value\\\\\":\\\\\"2023L\\\\\"', '\\\\\"Value\\\\\":\\\\\"2023L\\\\\"', '\\\\\"Value\\\\\":\\\\\"2023L\\\\\"', '\\\\\"Value\\\\\":\\\\\"2023L\\\\\"', '\\\\\"Value\\\\\":\\\\\"2023L\\\\\"', '\\\\\"Value\\\\\":\\\\\"2023L\\\\\"', '\\\\\"Value\\\\\":\\\\\"2023L\\\\\"', '\\\\\"Value\\\\\":\\\\\"2023L\\\\\"', '\\\\\"Value\\\\\":\\\\\"2023L\\\\\"', '\\\\\"Value\\\\\":\\\\\"2023L\\\\\"', '\\\\\"Value\\\\\":\\\\\"2023L\\\\\"', '\\\\\"Value\\\\\":\\\\\"2023L\\\\\"', '\\\\\"Value\\\\\":\\\\\"2023L\\\\\"', '\\\\\"Value\\\\\":\\\\\"2023L\\\\\"', '\\\\\"Value\\\\\":\\\\\"2023L\\\\\"', '\\\\\"Value\\\\\":\\\\\"2023L\\\\\"', '\\\\\"Value\\\\\":\\\\\"2023L\\\\\"', '\\\\\"Value\\\\\":\\\\\"2023L\\\\\"', '\\\\\"Value\\\\\":\\\\\"2023L\\\\\"', '\\\\\"Value\\\\\":\\\\\"2023L\\\\\"', '\\\\\"Value\\\\\":\\\\\"2023L\\\\\"', '\\\\\"Value\\\\\":\\\\\"2023L\\\\\"', '\\\\\"Value\\\\\":\\\\\"2023L\\\\\"', '\\\\\"Value\\\\\":\\\\\"2023L\\\\\"', '\\\\\"Value\\\\\":\\\\\"2023L\\\\\"', '\\\\\"Value\\\\\":\\\\\"2023L\\\\\"', '\\\\\"Value\\\\\":\\\\\"2023L\\\\\"', '\\\\\"Value\\\\\":\\\\\"2023L\\\\\"', '\\\\\"Value\\\\\":\\\\\"2023L\\\\\"', '\\\\\"Value\\\\\":\\\\\"2023L\\\\\"', '\\\\\"Value\\\\\":\\\\\"2023L\\\\\"', '\\\\\"Value\\\\\":\\\\\"2023L\\\\\"', '\\\\\"Value\\\\\":\\\\\"2023L\\\\\"', '\\\\\"Value\\\\\":\\\\\"2023L\\\\\"', '\\\\\"Value\\\\\":\\\\\"2023L\\\\\"', '\\\\\"Value\\\\\":\\\\\"2023L\\\\\"', '\\\\\"Value\\\\\":\\\\\"2023L\\\\\"', '\\\\\"Value\\\\\":\\\\\"2023L\\\\\"', '\\\\\"Value\\\\\":\\\\\"2023L\\\\\"', '\\\\\"Value\\\\\":\\\\\"2023L\\\\\"', '\\\\\"Value\\\\\":\\\\\"2023L\\\\\"', '\\\\\"Value\\\\\":\\\\\"2023L\\\\\"', '\\\\\"Value\\\\\":\\\\\"2023L\\\\\"', '\\\\\"Value\\\\\":\\\\\"2023L\\\\\"', '\\\\\"Value\\\\\":\\\\\"2023L\\\\\"', '\\\\\"Value\\\\\":\\\\\"2023L\\\\\"', '\\\\\"Value\\\\\":\\\\\"2023L\\\\\"', '\\\\\"Value\\\\\":\\\\\"2023L\\\\\"', '\\\\\"Value\\\\\":\\\\\"2023L\\\\\"', '\\\\\"Value\\\\\":\\\\\"2023L\\\\\"', '\\\\\"Value\\\\\":\\\\\"2023L\\\\\"', '\\\\\"Value\\\\\":\\\\\"2023L\\\\\"', '\\\\\"Value\\\\\":\\\\\"2023L\\\\\"', '\\\\\"Value\\\\\":\\\\\"2023L\\\\\"', '\\\\\"Value\\\\\":\\\\\"2023L\\\\\"', '\\\\\"Value\\\\\":\\\\\"2023L\\\\\"', '\\\\\"Value\\\\\":\\\\\"2023L\\\\\"', '\\\\\"Value\\\\\":\\\\\"2023L\\\\\"']\n",
      "Expression\\\":{\\\"SourceRef\\\":{\\\"Source\\\":\\\"d\\\"}},\\\"Property\\\":\\\"Year\\\"}}],\\\"Values\\\":[[{\\\"Literal\\\":{\\\"Value\\\":\\\"2023L\\\"}}]]}}}]}}}}],\\\"items\\\":[{\\\"properties\\\":{\\\"textSize\\\":{\\\"expr\\\":{\\\"Literal\\\":{\\\"\n",
      "Expression\\\":{\\\"SourceRef\\\":{\\\"Source\\\":\\\"d\\\"}},\\\"Property\\\":\\\"Year\\\"}}],\\\"Values\\\":[[{\\\"Literal\\\":{\\\"Value\\\":\\\"2023L\\\"}}]]}}}]}}}}],\\\"items\\\":[{\\\"properties\\\":{\\\"textSize\\\":{\\\"expr\\\":{\\\"Literal\\\":{\\\"\n",
      "\n",
      "\\\\\"Value\\\\\":\\\\\"2023L\\\\\"\n",
      "\\\"Value\\\":\\\"2023L\\\"\n",
      "['\\\\\"Value\\\\\":\\\\\"2023L\\\\\"', '\\\\\"Value\\\\\":\\\\\"2023L\\\\\"', '\\\\\"Value\\\\\":\\\\\"2023L\\\\\"', '\\\\\"Value\\\\\":\\\\\"2023L\\\\\"', '\\\\\"Value\\\\\":\\\\\"2023L\\\\\"', '\\\\\"Value\\\\\":\\\\\"2023L\\\\\"', '\\\\\"Value\\\\\":\\\\\"2023L\\\\\"', '\\\\\"Value\\\\\":\\\\\"2023L\\\\\"', '\\\\\"Value\\\\\":\\\\\"2023L\\\\\"', '\\\\\"Value\\\\\":\\\\\"2023L\\\\\"', '\\\\\"Value\\\\\":\\\\\"2023L\\\\\"', '\\\\\"Value\\\\\":\\\\\"2023L\\\\\"', '\\\\\"Value\\\\\":\\\\\"2023L\\\\\"', '\\\\\"Value\\\\\":\\\\\"2023L\\\\\"', '\\\\\"Value\\\\\":\\\\\"2023L\\\\\"', '\\\\\"Value\\\\\":\\\\\"2023L\\\\\"', '\\\\\"Value\\\\\":\\\\\"2023L\\\\\"', '\\\\\"Value\\\\\":\\\\\"2023L\\\\\"', '\\\\\"Value\\\\\":\\\\\"2023L\\\\\"', '\\\\\"Value\\\\\":\\\\\"2023L\\\\\"', '\\\\\"Value\\\\\":\\\\\"2023L\\\\\"', '\\\\\"Value\\\\\":\\\\\"2023L\\\\\"', '\\\\\"Value\\\\\":\\\\\"2023L\\\\\"', '\\\\\"Value\\\\\":\\\\\"2023L\\\\\"', '\\\\\"Value\\\\\":\\\\\"2023L\\\\\"', '\\\\\"Value\\\\\":\\\\\"2023L\\\\\"', '\\\\\"Value\\\\\":\\\\\"2023L\\\\\"', '\\\\\"Value\\\\\":\\\\\"2023L\\\\\"', '\\\\\"Value\\\\\":\\\\\"2023L\\\\\"', '\\\\\"Value\\\\\":\\\\\"2023L\\\\\"', '\\\\\"Value\\\\\":\\\\\"2023L\\\\\"', '\\\\\"Value\\\\\":\\\\\"2023L\\\\\"', '\\\\\"Value\\\\\":\\\\\"2023L\\\\\"', '\\\\\"Value\\\\\":\\\\\"2023L\\\\\"', '\\\\\"Value\\\\\":\\\\\"2023L\\\\\"', '\\\\\"Value\\\\\":\\\\\"2023L\\\\\"', '\\\\\"Value\\\\\":\\\\\"2023L\\\\\"', '\\\\\"Value\\\\\":\\\\\"2023L\\\\\"', '\\\\\"Value\\\\\":\\\\\"2023L\\\\\"', '\\\\\"Value\\\\\":\\\\\"2023L\\\\\"', '\\\\\"Value\\\\\":\\\\\"2023L\\\\\"', '\\\\\"Value\\\\\":\\\\\"2023L\\\\\"', '\\\\\"Value\\\\\":\\\\\"2023L\\\\\"', '\\\\\"Value\\\\\":\\\\\"2023L\\\\\"', '\\\\\"Value\\\\\":\\\\\"2023L\\\\\"', '\\\\\"Value\\\\\":\\\\\"2023L\\\\\"', '\\\\\"Value\\\\\":\\\\\"2023L\\\\\"', '\\\\\"Value\\\\\":\\\\\"2023L\\\\\"', '\\\\\"Value\\\\\":\\\\\"2023L\\\\\"', '\\\\\"Value\\\\\":\\\\\"2023L\\\\\"', '\\\\\"Value\\\\\":\\\\\"2023L\\\\\"', '\\\\\"Value\\\\\":\\\\\"2023L\\\\\"', '\\\\\"Value\\\\\":\\\\\"2023L\\\\\"', '\\\\\"Value\\\\\":\\\\\"2023L\\\\\"', '\\\\\"Value\\\\\":\\\\\"2023L\\\\\"', '\\\\\"Value\\\\\":\\\\\"2023L\\\\\"', '\\\\\"Value\\\\\":\\\\\"2023L\\\\\"', '\\\\\"Value\\\\\":\\\\\"2023L\\\\\"', '\\\\\"Value\\\\\":\\\\\"2023L\\\\\"', '\\\\\"Value\\\\\":\\\\\"2023L\\\\\"', '\\\\\"Value\\\\\":\\\\\"2023L\\\\\"', '\\\\\"Value\\\\\":\\\\\"2023L\\\\\"', '\\\\\"Value\\\\\":\\\\\"2023L\\\\\"', '\\\\\"Value\\\\\":\\\\\"2023L\\\\\"', '\\\\\"Value\\\\\":\\\\\"2023L\\\\\"', '\\\\\"Value\\\\\":\\\\\"2023L\\\\\"', '\\\\\"Value\\\\\":\\\\\"2023L\\\\\"', '\\\\\"Value\\\\\":\\\\\"2023L\\\\\"', '\\\\\"Value\\\\\":\\\\\"2023L\\\\\"', '\\\\\"Value\\\\\":\\\\\"2023L\\\\\"', '\\\\\"Value\\\\\":\\\\\"2023L\\\\\"', '\\\\\"Value\\\\\":\\\\\"2023L\\\\\"', '\\\\\"Value\\\\\":\\\\\"2023L\\\\\"', '\\\\\"Value\\\\\":\\\\\"2023L\\\\\"', '\\\\\"Value\\\\\":\\\\\"2023L\\\\\"', '\\\\\"Value\\\\\":\\\\\"2023L\\\\\"', '\\\\\"Value\\\\\":\\\\\"2023L\\\\\"', '\\\\\"Value\\\\\":\\\\\"2023L\\\\\"', '\\\\\"Value\\\\\":\\\\\"2023L\\\\\"', '\\\\\"Value\\\\\":\\\\\"2023L\\\\\"', '\\\\\"Value\\\\\":\\\\\"2023L\\\\\"', '\\\\\"Value\\\\\":\\\\\"2023L\\\\\"', '\\\\\"Value\\\\\":\\\\\"2023L\\\\\"', '\\\\\"Value\\\\\":\\\\\"2023L\\\\\"', '\\\\\"Value\\\\\":\\\\\"2023L\\\\\"', '\\\\\"Value\\\\\":\\\\\"2023L\\\\\"', '\\\\\"Value\\\\\":\\\\\"2023L\\\\\"', '\\\\\"Value\\\\\":\\\\\"2023L\\\\\"', '\\\\\"Value\\\\\":\\\\\"2023L\\\\\"', '\\\\\"Value\\\\\":\\\\\"2023L\\\\\"', '\\\\\"Value\\\\\":\\\\\"2023L\\\\\"', '\\\\\"Value\\\\\":\\\\\"2023L\\\\\"', '\\\\\"Value\\\\\":\\\\\"2023L\\\\\"', '\\\\\"Value\\\\\":\\\\\"2023L\\\\\"', '\\\\\"Value\\\\\":\\\\\"2023L\\\\\"', '\\\\\"Value\\\\\":\\\\\"2023L\\\\\"', '\\\\\"Value\\\\\":\\\\\"2023L\\\\\"', '\\\\\"Value\\\\\":\\\\\"2023L\\\\\"', '\\\\\"Value\\\\\":\\\\\"2023L\\\\\"', '\\\\\"Value\\\\\":\\\\\"2023L\\\\\"', '\\\\\"Value\\\\\":\\\\\"2023L\\\\\"', '\\\\\"Value\\\\\":\\\\\"2023L\\\\\"', '\\\\\"Value\\\\\":\\\\\"2023L\\\\\"', '\\\\\"Value\\\\\":\\\\\"2023L\\\\\"', '\\\\\"Value\\\\\":\\\\\"2023L\\\\\"', '\\\\\"Value\\\\\":\\\\\"2023L\\\\\"', '\\\\\"Value\\\\\":\\\\\"2023L\\\\\"', '\\\\\"Value\\\\\":\\\\\"2023L\\\\\"', '\\\\\"Value\\\\\":\\\\\"2023L\\\\\"', '\\\\\"Value\\\\\":\\\\\"2023L\\\\\"', '\\\\\"Value\\\\\":\\\\\"2023L\\\\\"', '\\\\\"Value\\\\\":\\\\\"2023L\\\\\"', '\\\\\"Value\\\\\":\\\\\"2023L\\\\\"', '\\\\\"Value\\\\\":\\\\\"2023L\\\\\"', '\\\\\"Value\\\\\":\\\\\"2023L\\\\\"', '\\\\\"Value\\\\\":\\\\\"2023L\\\\\"', '\\\\\"Value\\\\\":\\\\\"2023L\\\\\"', '\\\\\"Value\\\\\":\\\\\"2023L\\\\\"', '\\\\\"Value\\\\\":\\\\\"2023L\\\\\"', '\\\\\"Value\\\\\":\\\\\"2023L\\\\\"', '\\\\\"Value\\\\\":\\\\\"2023L\\\\\"', '\\\\\"Value\\\\\":\\\\\"2023L\\\\\"', '\\\\\"Value\\\\\":\\\\\"2023L\\\\\"', '\\\\\"Value\\\\\":\\\\\"2023L\\\\\"', '\\\\\"Value\\\\\":\\\\\"2023L\\\\\"', '\\\\\"Value\\\\\":\\\\\"2023L\\\\\"', '\\\\\"Value\\\\\":\\\\\"2023L\\\\\"', '\\\\\"Value\\\\\":\\\\\"2023L\\\\\"', '\\\\\"Value\\\\\":\\\\\"2023L\\\\\"', '\\\\\"Value\\\\\":\\\\\"2023L\\\\\"', '\\\\\"Value\\\\\":\\\\\"2023L\\\\\"', '\\\\\"Value\\\\\":\\\\\"2023L\\\\\"', '\\\\\"Value\\\\\":\\\\\"2023L\\\\\"', '\\\\\"Value\\\\\":\\\\\"2023L\\\\\"', '\\\\\"Value\\\\\":\\\\\"2023L\\\\\"', '\\\\\"Value\\\\\":\\\\\"2023L\\\\\"', '\\\\\"Value\\\\\":\\\\\"2023L\\\\\"', '\\\\\"Value\\\\\":\\\\\"2023L\\\\\"', '\\\\\"Value\\\\\":\\\\\"2023L\\\\\"', '\\\\\"Value\\\\\":\\\\\"2023L\\\\\"', '\\\\\"Value\\\\\":\\\\\"2023L\\\\\"', '\\\\\"Value\\\\\":\\\\\"2023L\\\\\"', '\\\\\"Value\\\\\":\\\\\"2023L\\\\\"', '\\\\\"Value\\\\\":\\\\\"2023L\\\\\"', '\\\\\"Value\\\\\":\\\\\"2023L\\\\\"', '\\\\\"Value\\\\\":\\\\\"2023L\\\\\"', '\\\\\"Value\\\\\":\\\\\"2023L\\\\\"', '\\\\\"Value\\\\\":\\\\\"2023L\\\\\"', '\\\\\"Value\\\\\":\\\\\"2023L\\\\\"', '\\\\\"Value\\\\\":\\\\\"2023L\\\\\"']\n",
      "Expression\\\":{\\\"SourceRef\\\":{\\\"Source\\\":\\\"d\\\"}},\\\"Property\\\":\\\"Year\\\"}}],\\\"Values\\\":[[{\\\"Literal\\\":{\\\"Value\\\":\\\"2023L\\\"}}]]}}}]}}}}],\\\"items\\\":[{\\\"properties\\\":{\\\"textSize\\\":{\\\"expr\\\":{\\\"Literal\\\":{\\\"\n",
      "Expression\\\":{\\\"SourceRef\\\":{\\\"Source\\\":\\\"d\\\"}},\\\"Property\\\":\\\"Year\\\"}}],\\\"Values\\\":[[{\\\"Literal\\\":{\\\"Value\\\":\\\"2023L\\\"}}]]}}}]}}}}],\\\"items\\\":[{\\\"properties\\\":{\\\"textSize\\\":{\\\"expr\\\":{\\\"Literal\\\":{\\\"\n",
      "\n",
      "\\\\\"Value\\\\\":\\\\\"2023L\\\\\"\n",
      "\\\"Value\\\":\\\"2023L\\\"\n",
      "['\\\\\"Value\\\\\":\\\\\"2023L\\\\\"', '\\\\\"Value\\\\\":\\\\\"2023L\\\\\"', '\\\\\"Value\\\\\":\\\\\"2023L\\\\\"', '\\\\\"Value\\\\\":\\\\\"2023L\\\\\"', '\\\\\"Value\\\\\":\\\\\"2023L\\\\\"', '\\\\\"Value\\\\\":\\\\\"2023L\\\\\"', '\\\\\"Value\\\\\":\\\\\"2023L\\\\\"', '\\\\\"Value\\\\\":\\\\\"2023L\\\\\"', '\\\\\"Value\\\\\":\\\\\"2023L\\\\\"', '\\\\\"Value\\\\\":\\\\\"2023L\\\\\"', '\\\\\"Value\\\\\":\\\\\"2023L\\\\\"', '\\\\\"Value\\\\\":\\\\\"2023L\\\\\"', '\\\\\"Value\\\\\":\\\\\"2023L\\\\\"', '\\\\\"Value\\\\\":\\\\\"2023L\\\\\"', '\\\\\"Value\\\\\":\\\\\"2023L\\\\\"', '\\\\\"Value\\\\\":\\\\\"2023L\\\\\"', '\\\\\"Value\\\\\":\\\\\"2023L\\\\\"', '\\\\\"Value\\\\\":\\\\\"2023L\\\\\"', '\\\\\"Value\\\\\":\\\\\"2023L\\\\\"', '\\\\\"Value\\\\\":\\\\\"2023L\\\\\"', '\\\\\"Value\\\\\":\\\\\"2023L\\\\\"', '\\\\\"Value\\\\\":\\\\\"2023L\\\\\"', '\\\\\"Value\\\\\":\\\\\"2023L\\\\\"', '\\\\\"Value\\\\\":\\\\\"2023L\\\\\"', '\\\\\"Value\\\\\":\\\\\"2023L\\\\\"', '\\\\\"Value\\\\\":\\\\\"2023L\\\\\"', '\\\\\"Value\\\\\":\\\\\"2023L\\\\\"', '\\\\\"Value\\\\\":\\\\\"2023L\\\\\"', '\\\\\"Value\\\\\":\\\\\"2023L\\\\\"', '\\\\\"Value\\\\\":\\\\\"2023L\\\\\"', '\\\\\"Value\\\\\":\\\\\"2023L\\\\\"', '\\\\\"Value\\\\\":\\\\\"2023L\\\\\"', '\\\\\"Value\\\\\":\\\\\"2023L\\\\\"', '\\\\\"Value\\\\\":\\\\\"2023L\\\\\"', '\\\\\"Value\\\\\":\\\\\"2023L\\\\\"', '\\\\\"Value\\\\\":\\\\\"2023L\\\\\"', '\\\\\"Value\\\\\":\\\\\"2023L\\\\\"', '\\\\\"Value\\\\\":\\\\\"2023L\\\\\"', '\\\\\"Value\\\\\":\\\\\"2023L\\\\\"', '\\\\\"Value\\\\\":\\\\\"2023L\\\\\"', '\\\\\"Value\\\\\":\\\\\"2023L\\\\\"', '\\\\\"Value\\\\\":\\\\\"2023L\\\\\"', '\\\\\"Value\\\\\":\\\\\"2023L\\\\\"', '\\\\\"Value\\\\\":\\\\\"2023L\\\\\"', '\\\\\"Value\\\\\":\\\\\"2023L\\\\\"', '\\\\\"Value\\\\\":\\\\\"2023L\\\\\"', '\\\\\"Value\\\\\":\\\\\"2023L\\\\\"', '\\\\\"Value\\\\\":\\\\\"2023L\\\\\"', '\\\\\"Value\\\\\":\\\\\"2023L\\\\\"', '\\\\\"Value\\\\\":\\\\\"2023L\\\\\"', '\\\\\"Value\\\\\":\\\\\"2023L\\\\\"', '\\\\\"Value\\\\\":\\\\\"2023L\\\\\"', '\\\\\"Value\\\\\":\\\\\"2023L\\\\\"', '\\\\\"Value\\\\\":\\\\\"2023L\\\\\"', '\\\\\"Value\\\\\":\\\\\"2023L\\\\\"', '\\\\\"Value\\\\\":\\\\\"2023L\\\\\"', '\\\\\"Value\\\\\":\\\\\"2023L\\\\\"', '\\\\\"Value\\\\\":\\\\\"2023L\\\\\"', '\\\\\"Value\\\\\":\\\\\"2023L\\\\\"', '\\\\\"Value\\\\\":\\\\\"2023L\\\\\"', '\\\\\"Value\\\\\":\\\\\"2023L\\\\\"', '\\\\\"Value\\\\\":\\\\\"2023L\\\\\"', '\\\\\"Value\\\\\":\\\\\"2023L\\\\\"', '\\\\\"Value\\\\\":\\\\\"2023L\\\\\"', '\\\\\"Value\\\\\":\\\\\"2023L\\\\\"', '\\\\\"Value\\\\\":\\\\\"2023L\\\\\"', '\\\\\"Value\\\\\":\\\\\"2023L\\\\\"', '\\\\\"Value\\\\\":\\\\\"2023L\\\\\"', '\\\\\"Value\\\\\":\\\\\"2023L\\\\\"', '\\\\\"Value\\\\\":\\\\\"2023L\\\\\"', '\\\\\"Value\\\\\":\\\\\"2023L\\\\\"', '\\\\\"Value\\\\\":\\\\\"2023L\\\\\"', '\\\\\"Value\\\\\":\\\\\"2023L\\\\\"', '\\\\\"Value\\\\\":\\\\\"2023L\\\\\"', '\\\\\"Value\\\\\":\\\\\"2023L\\\\\"', '\\\\\"Value\\\\\":\\\\\"2023L\\\\\"', '\\\\\"Value\\\\\":\\\\\"2023L\\\\\"', '\\\\\"Value\\\\\":\\\\\"2023L\\\\\"', '\\\\\"Value\\\\\":\\\\\"2023L\\\\\"', '\\\\\"Value\\\\\":\\\\\"2023L\\\\\"', '\\\\\"Value\\\\\":\\\\\"2023L\\\\\"', '\\\\\"Value\\\\\":\\\\\"2023L\\\\\"', '\\\\\"Value\\\\\":\\\\\"2023L\\\\\"', '\\\\\"Value\\\\\":\\\\\"2023L\\\\\"', '\\\\\"Value\\\\\":\\\\\"2023L\\\\\"', '\\\\\"Value\\\\\":\\\\\"2023L\\\\\"', '\\\\\"Value\\\\\":\\\\\"2023L\\\\\"', '\\\\\"Value\\\\\":\\\\\"2023L\\\\\"', '\\\\\"Value\\\\\":\\\\\"2023L\\\\\"', '\\\\\"Value\\\\\":\\\\\"2023L\\\\\"', '\\\\\"Value\\\\\":\\\\\"2023L\\\\\"', '\\\\\"Value\\\\\":\\\\\"2023L\\\\\"', '\\\\\"Value\\\\\":\\\\\"2023L\\\\\"', '\\\\\"Value\\\\\":\\\\\"2023L\\\\\"', '\\\\\"Value\\\\\":\\\\\"2023L\\\\\"', '\\\\\"Value\\\\\":\\\\\"2023L\\\\\"', '\\\\\"Value\\\\\":\\\\\"2023L\\\\\"', '\\\\\"Value\\\\\":\\\\\"2023L\\\\\"', '\\\\\"Value\\\\\":\\\\\"2023L\\\\\"', '\\\\\"Value\\\\\":\\\\\"2023L\\\\\"', '\\\\\"Value\\\\\":\\\\\"2023L\\\\\"', '\\\\\"Value\\\\\":\\\\\"2023L\\\\\"', '\\\\\"Value\\\\\":\\\\\"2023L\\\\\"', '\\\\\"Value\\\\\":\\\\\"2023L\\\\\"', '\\\\\"Value\\\\\":\\\\\"2023L\\\\\"', '\\\\\"Value\\\\\":\\\\\"2023L\\\\\"', '\\\\\"Value\\\\\":\\\\\"2023L\\\\\"', '\\\\\"Value\\\\\":\\\\\"2023L\\\\\"', '\\\\\"Value\\\\\":\\\\\"2023L\\\\\"', '\\\\\"Value\\\\\":\\\\\"2023L\\\\\"', '\\\\\"Value\\\\\":\\\\\"2023L\\\\\"', '\\\\\"Value\\\\\":\\\\\"2023L\\\\\"', '\\\\\"Value\\\\\":\\\\\"2023L\\\\\"', '\\\\\"Value\\\\\":\\\\\"2023L\\\\\"', '\\\\\"Value\\\\\":\\\\\"2023L\\\\\"', '\\\\\"Value\\\\\":\\\\\"2023L\\\\\"', '\\\\\"Value\\\\\":\\\\\"2023L\\\\\"', '\\\\\"Value\\\\\":\\\\\"2023L\\\\\"', '\\\\\"Value\\\\\":\\\\\"2023L\\\\\"', '\\\\\"Value\\\\\":\\\\\"2023L\\\\\"', '\\\\\"Value\\\\\":\\\\\"2023L\\\\\"', '\\\\\"Value\\\\\":\\\\\"2023L\\\\\"', '\\\\\"Value\\\\\":\\\\\"2023L\\\\\"', '\\\\\"Value\\\\\":\\\\\"2023L\\\\\"', '\\\\\"Value\\\\\":\\\\\"2023L\\\\\"', '\\\\\"Value\\\\\":\\\\\"2023L\\\\\"', '\\\\\"Value\\\\\":\\\\\"2023L\\\\\"', '\\\\\"Value\\\\\":\\\\\"2023L\\\\\"', '\\\\\"Value\\\\\":\\\\\"2023L\\\\\"', '\\\\\"Value\\\\\":\\\\\"2023L\\\\\"', '\\\\\"Value\\\\\":\\\\\"2023L\\\\\"', '\\\\\"Value\\\\\":\\\\\"2023L\\\\\"', '\\\\\"Value\\\\\":\\\\\"2023L\\\\\"', '\\\\\"Value\\\\\":\\\\\"2023L\\\\\"', '\\\\\"Value\\\\\":\\\\\"2023L\\\\\"', '\\\\\"Value\\\\\":\\\\\"2023L\\\\\"', '\\\\\"Value\\\\\":\\\\\"2023L\\\\\"', '\\\\\"Value\\\\\":\\\\\"2023L\\\\\"', '\\\\\"Value\\\\\":\\\\\"2023L\\\\\"', '\\\\\"Value\\\\\":\\\\\"2023L\\\\\"', '\\\\\"Value\\\\\":\\\\\"2023L\\\\\"', '\\\\\"Value\\\\\":\\\\\"2023L\\\\\"', '\\\\\"Value\\\\\":\\\\\"2023L\\\\\"', '\\\\\"Value\\\\\":\\\\\"2023L\\\\\"', '\\\\\"Value\\\\\":\\\\\"2023L\\\\\"', '\\\\\"Value\\\\\":\\\\\"2023L\\\\\"', '\\\\\"Value\\\\\":\\\\\"2023L\\\\\"', '\\\\\"Value\\\\\":\\\\\"2023L\\\\\"', '\\\\\"Value\\\\\":\\\\\"2023L\\\\\"', '\\\\\"Value\\\\\":\\\\\"2023L\\\\\"']\n",
      "Expression\\\":{\\\"SourceRef\\\":{\\\"Source\\\":\\\"d\\\"}},\\\"Property\\\":\\\"Year\\\"}}],\\\"Values\\\":[[{\\\"Literal\\\":{\\\"Value\\\":\\\"2023L\\\"}}]]}}}]}}}}],\\\"items\\\":[{\\\"properties\\\":{\\\"textSize\\\":{\\\"expr\\\":{\\\"Literal\\\":{\\\"\n",
      "Expression\\\":{\\\"SourceRef\\\":{\\\"Source\\\":\\\"d\\\"}},\\\"Property\\\":\\\"Year\\\"}}],\\\"Values\\\":[[{\\\"Literal\\\":{\\\"Value\\\":\\\"2023L\\\"}}]]}}}]}}}}],\\\"items\\\":[{\\\"properties\\\":{\\\"textSize\\\":{\\\"expr\\\":{\\\"Literal\\\":{\\\"\n",
      "\n",
      "\\\\\"Value\\\\\":\\\\\"2023L\\\\\"\n",
      "\\\"Value\\\":\\\"2023L\\\"\n",
      "['\\\\\"Value\\\\\":\\\\\"2023L\\\\\"', '\\\\\"Value\\\\\":\\\\\"2023L\\\\\"', '\\\\\"Value\\\\\":\\\\\"2023L\\\\\"', '\\\\\"Value\\\\\":\\\\\"2023L\\\\\"', '\\\\\"Value\\\\\":\\\\\"2023L\\\\\"', '\\\\\"Value\\\\\":\\\\\"2023L\\\\\"', '\\\\\"Value\\\\\":\\\\\"2023L\\\\\"', '\\\\\"Value\\\\\":\\\\\"2023L\\\\\"', '\\\\\"Value\\\\\":\\\\\"2023L\\\\\"', '\\\\\"Value\\\\\":\\\\\"2023L\\\\\"', '\\\\\"Value\\\\\":\\\\\"2023L\\\\\"', '\\\\\"Value\\\\\":\\\\\"2023L\\\\\"', '\\\\\"Value\\\\\":\\\\\"2023L\\\\\"', '\\\\\"Value\\\\\":\\\\\"2023L\\\\\"', '\\\\\"Value\\\\\":\\\\\"2023L\\\\\"', '\\\\\"Value\\\\\":\\\\\"2023L\\\\\"', '\\\\\"Value\\\\\":\\\\\"2023L\\\\\"', '\\\\\"Value\\\\\":\\\\\"2023L\\\\\"', '\\\\\"Value\\\\\":\\\\\"2023L\\\\\"', '\\\\\"Value\\\\\":\\\\\"2023L\\\\\"', '\\\\\"Value\\\\\":\\\\\"2023L\\\\\"', '\\\\\"Value\\\\\":\\\\\"2023L\\\\\"', '\\\\\"Value\\\\\":\\\\\"2023L\\\\\"', '\\\\\"Value\\\\\":\\\\\"2023L\\\\\"', '\\\\\"Value\\\\\":\\\\\"2023L\\\\\"', '\\\\\"Value\\\\\":\\\\\"2023L\\\\\"', '\\\\\"Value\\\\\":\\\\\"2023L\\\\\"', '\\\\\"Value\\\\\":\\\\\"2023L\\\\\"', '\\\\\"Value\\\\\":\\\\\"2023L\\\\\"', '\\\\\"Value\\\\\":\\\\\"2023L\\\\\"', '\\\\\"Value\\\\\":\\\\\"2023L\\\\\"', '\\\\\"Value\\\\\":\\\\\"2023L\\\\\"', '\\\\\"Value\\\\\":\\\\\"2023L\\\\\"', '\\\\\"Value\\\\\":\\\\\"2023L\\\\\"', '\\\\\"Value\\\\\":\\\\\"2023L\\\\\"', '\\\\\"Value\\\\\":\\\\\"2023L\\\\\"', '\\\\\"Value\\\\\":\\\\\"2023L\\\\\"', '\\\\\"Value\\\\\":\\\\\"2023L\\\\\"', '\\\\\"Value\\\\\":\\\\\"2023L\\\\\"', '\\\\\"Value\\\\\":\\\\\"2023L\\\\\"', '\\\\\"Value\\\\\":\\\\\"2023L\\\\\"', '\\\\\"Value\\\\\":\\\\\"2023L\\\\\"', '\\\\\"Value\\\\\":\\\\\"2023L\\\\\"', '\\\\\"Value\\\\\":\\\\\"2023L\\\\\"', '\\\\\"Value\\\\\":\\\\\"2023L\\\\\"', '\\\\\"Value\\\\\":\\\\\"2023L\\\\\"', '\\\\\"Value\\\\\":\\\\\"2023L\\\\\"', '\\\\\"Value\\\\\":\\\\\"2023L\\\\\"', '\\\\\"Value\\\\\":\\\\\"2023L\\\\\"', '\\\\\"Value\\\\\":\\\\\"2023L\\\\\"', '\\\\\"Value\\\\\":\\\\\"2023L\\\\\"', '\\\\\"Value\\\\\":\\\\\"2023L\\\\\"', '\\\\\"Value\\\\\":\\\\\"2023L\\\\\"', '\\\\\"Value\\\\\":\\\\\"2023L\\\\\"', '\\\\\"Value\\\\\":\\\\\"2023L\\\\\"', '\\\\\"Value\\\\\":\\\\\"2023L\\\\\"', '\\\\\"Value\\\\\":\\\\\"2023L\\\\\"', '\\\\\"Value\\\\\":\\\\\"2023L\\\\\"', '\\\\\"Value\\\\\":\\\\\"2023L\\\\\"', '\\\\\"Value\\\\\":\\\\\"2023L\\\\\"', '\\\\\"Value\\\\\":\\\\\"2023L\\\\\"', '\\\\\"Value\\\\\":\\\\\"2023L\\\\\"', '\\\\\"Value\\\\\":\\\\\"2023L\\\\\"', '\\\\\"Value\\\\\":\\\\\"2023L\\\\\"', '\\\\\"Value\\\\\":\\\\\"2023L\\\\\"', '\\\\\"Value\\\\\":\\\\\"2023L\\\\\"', '\\\\\"Value\\\\\":\\\\\"2023L\\\\\"', '\\\\\"Value\\\\\":\\\\\"2023L\\\\\"', '\\\\\"Value\\\\\":\\\\\"2023L\\\\\"', '\\\\\"Value\\\\\":\\\\\"2023L\\\\\"', '\\\\\"Value\\\\\":\\\\\"2023L\\\\\"', '\\\\\"Value\\\\\":\\\\\"2023L\\\\\"', '\\\\\"Value\\\\\":\\\\\"2023L\\\\\"', '\\\\\"Value\\\\\":\\\\\"2023L\\\\\"', '\\\\\"Value\\\\\":\\\\\"2023L\\\\\"', '\\\\\"Value\\\\\":\\\\\"2023L\\\\\"', '\\\\\"Value\\\\\":\\\\\"2023L\\\\\"', '\\\\\"Value\\\\\":\\\\\"2023L\\\\\"', '\\\\\"Value\\\\\":\\\\\"2023L\\\\\"', '\\\\\"Value\\\\\":\\\\\"2023L\\\\\"', '\\\\\"Value\\\\\":\\\\\"2023L\\\\\"', '\\\\\"Value\\\\\":\\\\\"2023L\\\\\"', '\\\\\"Value\\\\\":\\\\\"2023L\\\\\"', '\\\\\"Value\\\\\":\\\\\"2023L\\\\\"', '\\\\\"Value\\\\\":\\\\\"2023L\\\\\"', '\\\\\"Value\\\\\":\\\\\"2023L\\\\\"', '\\\\\"Value\\\\\":\\\\\"2023L\\\\\"', '\\\\\"Value\\\\\":\\\\\"2023L\\\\\"', '\\\\\"Value\\\\\":\\\\\"2023L\\\\\"', '\\\\\"Value\\\\\":\\\\\"2023L\\\\\"', '\\\\\"Value\\\\\":\\\\\"2023L\\\\\"', '\\\\\"Value\\\\\":\\\\\"2023L\\\\\"', '\\\\\"Value\\\\\":\\\\\"2023L\\\\\"', '\\\\\"Value\\\\\":\\\\\"2023L\\\\\"', '\\\\\"Value\\\\\":\\\\\"2023L\\\\\"', '\\\\\"Value\\\\\":\\\\\"2023L\\\\\"', '\\\\\"Value\\\\\":\\\\\"2023L\\\\\"', '\\\\\"Value\\\\\":\\\\\"2023L\\\\\"', '\\\\\"Value\\\\\":\\\\\"2023L\\\\\"', '\\\\\"Value\\\\\":\\\\\"2023L\\\\\"', '\\\\\"Value\\\\\":\\\\\"2023L\\\\\"', '\\\\\"Value\\\\\":\\\\\"2023L\\\\\"', '\\\\\"Value\\\\\":\\\\\"2023L\\\\\"', '\\\\\"Value\\\\\":\\\\\"2023L\\\\\"', '\\\\\"Value\\\\\":\\\\\"2023L\\\\\"', '\\\\\"Value\\\\\":\\\\\"2023L\\\\\"', '\\\\\"Value\\\\\":\\\\\"2023L\\\\\"', '\\\\\"Value\\\\\":\\\\\"2023L\\\\\"', '\\\\\"Value\\\\\":\\\\\"2023L\\\\\"', '\\\\\"Value\\\\\":\\\\\"2023L\\\\\"', '\\\\\"Value\\\\\":\\\\\"2023L\\\\\"', '\\\\\"Value\\\\\":\\\\\"2023L\\\\\"', '\\\\\"Value\\\\\":\\\\\"2023L\\\\\"', '\\\\\"Value\\\\\":\\\\\"2023L\\\\\"', '\\\\\"Value\\\\\":\\\\\"2023L\\\\\"', '\\\\\"Value\\\\\":\\\\\"2023L\\\\\"', '\\\\\"Value\\\\\":\\\\\"2023L\\\\\"', '\\\\\"Value\\\\\":\\\\\"2023L\\\\\"', '\\\\\"Value\\\\\":\\\\\"2023L\\\\\"', '\\\\\"Value\\\\\":\\\\\"2023L\\\\\"', '\\\\\"Value\\\\\":\\\\\"2023L\\\\\"', '\\\\\"Value\\\\\":\\\\\"2023L\\\\\"', '\\\\\"Value\\\\\":\\\\\"2023L\\\\\"', '\\\\\"Value\\\\\":\\\\\"2023L\\\\\"', '\\\\\"Value\\\\\":\\\\\"2023L\\\\\"', '\\\\\"Value\\\\\":\\\\\"2023L\\\\\"', '\\\\\"Value\\\\\":\\\\\"2023L\\\\\"', '\\\\\"Value\\\\\":\\\\\"2023L\\\\\"', '\\\\\"Value\\\\\":\\\\\"2023L\\\\\"', '\\\\\"Value\\\\\":\\\\\"2023L\\\\\"', '\\\\\"Value\\\\\":\\\\\"2023L\\\\\"', '\\\\\"Value\\\\\":\\\\\"2023L\\\\\"', '\\\\\"Value\\\\\":\\\\\"2023L\\\\\"', '\\\\\"Value\\\\\":\\\\\"2023L\\\\\"', '\\\\\"Value\\\\\":\\\\\"2023L\\\\\"', '\\\\\"Value\\\\\":\\\\\"2023L\\\\\"', '\\\\\"Value\\\\\":\\\\\"2023L\\\\\"', '\\\\\"Value\\\\\":\\\\\"2023L\\\\\"', '\\\\\"Value\\\\\":\\\\\"2023L\\\\\"', '\\\\\"Value\\\\\":\\\\\"2023L\\\\\"', '\\\\\"Value\\\\\":\\\\\"2023L\\\\\"', '\\\\\"Value\\\\\":\\\\\"2023L\\\\\"', '\\\\\"Value\\\\\":\\\\\"2023L\\\\\"', '\\\\\"Value\\\\\":\\\\\"2023L\\\\\"', '\\\\\"Value\\\\\":\\\\\"2023L\\\\\"', '\\\\\"Value\\\\\":\\\\\"2023L\\\\\"', '\\\\\"Value\\\\\":\\\\\"2023L\\\\\"', '\\\\\"Value\\\\\":\\\\\"2023L\\\\\"', '\\\\\"Value\\\\\":\\\\\"2023L\\\\\"', '\\\\\"Value\\\\\":\\\\\"2023L\\\\\"']\n",
      "Expression\\\":{\\\"SourceRef\\\":{\\\"Source\\\":\\\"d\\\"}},\\\"Property\\\":\\\"Year\\\"}}],\\\"Values\\\":[[{\\\"Literal\\\":{\\\"Value\\\":\\\"2023L\\\"}}]]}}}]}}}}],\\\"items\\\":[{\\\"properties\\\":{\\\"textSize\\\":{\\\"expr\\\":{\\\"Literal\\\":{\\\"\n",
      "Expression\\\":{\\\"SourceRef\\\":{\\\"Source\\\":\\\"d\\\"}},\\\"Property\\\":\\\"Year\\\"}}],\\\"Values\\\":[[{\\\"Literal\\\":{\\\"Value\\\":\\\"2023L\\\"}}]]}}}]}}}}],\\\"items\\\":[{\\\"properties\\\":{\\\"textSize\\\":{\\\"expr\\\":{\\\"Literal\\\":{\\\"\n",
      "\n"
     ]
    }
   ],
   "source": [
    "layout_file_path = r\"C:\\\\Users\\\\Kateryna_Nemchenko\\\\Desktop\\\\Bookmark Updates\\\\Layout\"\n",
    "\n",
    "def create_value_expression(value:str):\n",
    "    return r'\\\\\"Value\\\\\":\\\\\"{}\\\\\"'.format(value)\n",
    "\n",
    "with open(layout_file_path, \"r\", encoding=\"utf-16-le\") as layout_file:\n",
    "    layout_data = layout_file.read()\n",
    "\n",
    "for pattern, new_value in period_replacements:\n",
    "    search_pattern = r'\\\\\"Value\\\\\":\\\\\"{}\\\\\"'.format(period_pattern)\n",
    "    new_value = '\\\\\\\\\"Value\\\\\\\\\":\\\\\\\\\"{}\\\\\\\\\"'.format(period_new_value)\n",
    "    #search_pattern = create_value_expression(pattern)\n",
    "    #new_value = create_value_expression(new_value)\n",
    "    print(search_pattern, new_value, re.findall(search_pattern, layout_data), sep=\"\\n\")\n",
    "    if re.findall(search_pattern, layout_data):\n",
    "        fragment_index = re.finditer(search_pattern, layout_data).__next__().start()\n",
    "        print(layout_data[fragment_index-100:fragment_index+100])\n",
    "        new_layout_data = re.sub(search_pattern, new_value, layout_data)\n",
    "        print(new_layout_data[fragment_index-100:fragment_index+100])\n",
    "    print()\n"
   ]
  },
  {
   "cell_type": "code",
   "execution_count": 21,
   "metadata": {},
   "outputs": [
    {
     "name": "stdout",
     "output_type": "stream",
     "text": [
      "False\n",
      "False\n",
      "True\n",
      "True\n",
      "True\n",
      "True\n"
     ]
    }
   ],
   "source": [
    "with open(layout_file_path, \"r\", encoding=\"utf-16-le\") as layout_file:\n",
    "    layout_data = layout_file.read()\n",
    "\n",
    "updated_layout_data = layout_data\n",
    "for pattern, new_value in period_replacements:\n",
    "    initial_layout_data = updated_layout_data\n",
    "    updated_layout_data = replace_period(initial_layout_data, pattern, new_value)\n",
    "    print(initial_layout_data==updated_layout_data)\n",
    "\n",
    "#with open(layout_file_path, \"w\", encoding=\"utf-16-le\") as layout_file:\n",
    "    #layout_file.write(layout_data)"
   ]
  },
  {
   "cell_type": "code",
   "execution_count": 15,
   "metadata": {},
   "outputs": [],
   "source": [
    "def create_value_expression(value:str):\n",
    "    return '\\\\\\\"Value\\\\\\\":\\\\\\\"\\'{}\\'\\\\\\\"'.format(value)\n",
    "\n",
    "def replace_period(text:str, period_pattern:str, period_new_value:str):\n",
    "    search_pattern = create_value_expression(period_pattern)\n",
    "    new_value = create_value_expression(period_new_value)\n",
    "    print(search_pattern, new_value, re.findall(search_pattern, text))\n",
    "    return re.sub(search_pattern, new_value, text)"
   ]
  },
  {
   "cell_type": "code",
   "execution_count": 13,
   "metadata": {},
   "outputs": [
    {
     "ename": "NameError",
     "evalue": "name 'subdirectory' is not defined",
     "output_type": "error",
     "traceback": [
      "\u001b[1;31m---------------------------------------------------------------------------\u001b[0m",
      "\u001b[1;31mNameError\u001b[0m                                 Traceback (most recent call last)",
      "Cell \u001b[1;32mIn[13], line 2\u001b[0m\n\u001b[0;32m      1\u001b[0m pbi_filename \u001b[39m=\u001b[39m \u001b[39m\"\u001b[39m\u001b[39mAsia Regional Dashboard-GCL v3.pbix\u001b[39m\u001b[39m\"\u001b[39m\n\u001b[1;32m----> 2\u001b[0m temp_pbix_path \u001b[39m=\u001b[39m os\u001b[39m.\u001b[39mpath\u001b[39m.\u001b[39mjoin(TEMP_PATH, subdirectory, pbi_filename[:\u001b[39m-\u001b[39m\u001b[39m5\u001b[39m])\n\u001b[0;32m      4\u001b[0m layout_file_path \u001b[39m=\u001b[39m os\u001b[39m.\u001b[39mpath\u001b[39m.\u001b[39mjoin(temp_pbix_path, \u001b[39m\"\u001b[39m\u001b[39mReport\u001b[39m\u001b[39m\"\u001b[39m, \u001b[39m\"\u001b[39m\u001b[39mLayout\u001b[39m\u001b[39m\"\u001b[39m)\n\u001b[0;32m      6\u001b[0m \u001b[39mprint\u001b[39m(temp_pbix_path)\n",
      "\u001b[1;31mNameError\u001b[0m: name 'subdirectory' is not defined"
     ]
    }
   ],
   "source": [
    "pbi_filename = \"Asia Regional Dashboard-GCL v3.pbix\"\n",
    "temp_pbix_path = os.path.join(TEMP_PATH, subdirectory, pbi_filename[:-5])\n",
    "\n",
    "layout_file_path = os.path.join(temp_pbix_path, \"Report\", \"Layout\")\n",
    "\n",
    "print(temp_pbix_path)\n",
    "print(layout_file_path)\n",
    "\n",
    "\n",
    "\n"
   ]
  },
  {
   "cell_type": "code",
   "execution_count": 67,
   "metadata": {},
   "outputs": [
    {
     "data": {
      "text/plain": [
       "'ral\\\\\":{\\\\\"Value\\\\\":\\\\\"\\'Jan\\'\\\\\"}}]]}}}]'"
      ]
     },
     "execution_count": 67,
     "metadata": {},
     "output_type": "execute_result"
    }
   ],
   "source": [
    "test_text = r\"ral\\\":{\\\"Value\\\":\\\"'Jan'\\\"}}]]}}}]\"\n",
    "test_text\n"
   ]
  },
  {
   "attachments": {},
   "cell_type": "markdown",
   "metadata": {},
   "source": [
    "# The script"
   ]
  },
  {
   "attachments": {},
   "cell_type": "markdown",
   "metadata": {},
   "source": []
  }
 ],
 "metadata": {
  "kernelspec": {
   "display_name": "Python 3",
   "language": "python",
   "name": "python3"
  },
  "language_info": {
   "codemirror_mode": {
    "name": "ipython",
    "version": 3
   },
   "file_extension": ".py",
   "mimetype": "text/x-python",
   "name": "python",
   "nbconvert_exporter": "python",
   "pygments_lexer": "ipython3",
   "version": "3.10.8"
  },
  "orig_nbformat": 4,
  "vscode": {
   "interpreter": {
    "hash": "26de051ba29f2982a8de78e945f0abaf191376122a1563185a90213a26c5da77"
   }
  }
 },
 "nbformat": 4,
 "nbformat_minor": 2
}
