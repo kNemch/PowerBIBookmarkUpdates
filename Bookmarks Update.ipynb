{
 "cells": [
  {
   "attachments": {},
   "cell_type": "markdown",
   "metadata": {},
   "source": [
    "# Algorithm\n",
    "\n",
    "### a. Download the files from PBI Server\n",
    "1. Download all files\n",
    "2. Place them in the selected folder\n",
    "3. Place the Jupyter notebook into the same folder\n",
    "### b. Process the .pbix files - steps for each file\n",
    "##### Preparation - create the temp directory for original archives contents\n",
    "1. Unarchive the pbix file into the folder with the same name, which is located in the `temp` directory\n",
    "2. Go to PBIX folder\n",
    "3. Remove the `SecurityBindings` file\n",
    "4. Remove SecurityBindings recors from the `[Content_Types].xml` (for instance, replace the file with the prepared one)\n",
    "5. Modify the `Report/Layout` file - replace the values\n",
    "6. Create the new archive using the PBIX folder contents\n",
    "##### Remove the folder with Layouts\n",
    "### c. Check the files and publish them to PBI server\n",
    "1. Open each file\n",
    "2. Save and publish"
   ]
  },
  {
   "attachments": {},
   "cell_type": "markdown",
   "metadata": {},
   "source": [
    "# Algorithm implementation"
   ]
  },
  {
   "cell_type": "code",
   "execution_count": 79,
   "metadata": {},
   "outputs": [],
   "source": [
    "import os\n",
    "import re\n",
    "import calendar\n",
    "import datetime\n",
    "import json\n",
    "\n",
    "from zipfile import ZipFile"
   ]
  },
  {
   "attachments": {},
   "cell_type": "markdown",
   "metadata": {},
   "source": [
    "#### Organizing the workspace. Creating the temporary and results folders"
   ]
  },
  {
   "cell_type": "code",
   "execution_count": 80,
   "metadata": {},
   "outputs": [],
   "source": [
    "\"\"\"Path constants\"\"\"\n",
    "WORKSPACE_PATH = os.getcwd()  # workspace directory with all the data\n",
    "SOURCE_PATH = os.path.join(WORKSPACE_PATH, \"source\")  # directory with original .pbix files\n",
    "TEMP_PATH = os.path.join(WORKSPACE_PATH, \"temp\")      # directory for temporary files\n",
    "RESULTS_PATH = os.path.join(WORKSPACE_PATH, \"result\") # directory for the modified .pbix files"
   ]
  },
  {
   "cell_type": "code",
   "execution_count": 81,
   "metadata": {},
   "outputs": [],
   "source": [
    "def create_workspace_hierarchy():\n",
    "    \"\"\"Checking if directories exist\"\"\"\n",
    "    if not os.path.exists(RESULTS_PATH):\n",
    "        os.mkdir(RESULTS_PATH)\n",
    "    if not os.path.exists(TEMP_PATH):\n",
    "        os.mkdir(TEMP_PATH)\n",
    "    if not os.path.exists(SOURCE_PATH):\n",
    "        os.mkdir(SOURCE_PATH)\n",
    "        print(\"Please, place all the .pbix files into the 'source' directory, and then rerun the script\")\n",
    "    else:\n",
    "        print(\"The directories structure is OK\")"
   ]
  },
  {
   "cell_type": "code",
   "execution_count": 82,
   "metadata": {},
   "outputs": [
    {
     "name": "stdout",
     "output_type": "stream",
     "text": [
      "The directories structure is OK\n"
     ]
    }
   ],
   "source": [
    "create_workspace_hierarchy()"
   ]
  },
  {
   "attachments": {},
   "cell_type": "markdown",
   "metadata": {},
   "source": [
    "#### Iterating through files"
   ]
  },
  {
   "attachments": {},
   "cell_type": "markdown",
   "metadata": {},
   "source": [
    "1. Get the list of files in the `source` directory"
   ]
  },
  {
   "cell_type": "code",
   "execution_count": 83,
   "metadata": {},
   "outputs": [
    {
     "name": "stdout",
     "output_type": "stream",
     "text": [
      "['Asia Regional Dashboard-GCL v3', 'test']\n"
     ]
    }
   ],
   "source": [
    "source_pbix_files_names = [file_name[:-5] for file_name in os.listdir(SOURCE_PATH) if file_name[-5:] == \".pbix\"]\n",
    "print(source_pbix_files_names)"
   ]
  },
  {
   "cell_type": "code",
   "execution_count": 84,
   "metadata": {},
   "outputs": [
    {
     "data": {
      "text/plain": [
       "'Asia Regional Dashboard-GCL v3'"
      ]
     },
     "execution_count": 84,
     "metadata": {},
     "output_type": "execute_result"
    }
   ],
   "source": [
    "# Getting first element for algorithm example\n",
    "pbix_file_name = source_pbix_files_names[0]\n",
    "pbix_file_name"
   ]
  },
  {
   "attachments": {},
   "cell_type": "markdown",
   "metadata": {},
   "source": [
    "2. Unzip the .pbix file to the `temp` directory"
   ]
  },
  {
   "cell_type": "code",
   "execution_count": 85,
   "metadata": {},
   "outputs": [
    {
     "name": "stdout",
     "output_type": "stream",
     "text": [
      "Extracting all the files from c:\\Users\\Kateryna_Nemchenko\\Desktop\\Bookmark Updates\\source\\Asia Regional Dashboard-GCL v3.pbix to c:\\Users\\Kateryna_Nemchenko\\Desktop\\Bookmark Updates\\temp\\Asia Regional Dashboard-GCL v3\n"
     ]
    }
   ],
   "source": [
    "# paths for the original .pbix file (archive) and temporary folder, to which the file will be unarchived\n",
    "source_zip_path = os.path.join(SOURCE_PATH, pbix_file_name + \".pbix\")\n",
    "temp_dir_path = os.path.join(TEMP_PATH, pbix_file_name)\n",
    "\n",
    "# opening the zip file in READ mode\n",
    "with ZipFile(source_zip_path, 'r') as source_zip_file:\n",
    "    print('Extracting all the files from', source_zip_path, \"to\", temp_dir_path)\n",
    "    source_zip_file.extractall(path=temp_dir_path)"
   ]
  },
  {
   "attachments": {},
   "cell_type": "markdown",
   "metadata": {},
   "source": [
    "3. Remove the `SecurityBindings` file"
   ]
  },
  {
   "cell_type": "code",
   "execution_count": 86,
   "metadata": {},
   "outputs": [],
   "source": [
    "security_bindings_file_path = os.path.join(temp_dir_path, \"SecurityBindings\")\n",
    "if os.path.exists(security_bindings_file_path):\n",
    "    os.remove(security_bindings_file_path)"
   ]
  },
  {
   "attachments": {},
   "cell_type": "markdown",
   "metadata": {},
   "source": [
    "4. Remove SecurityBindings recors from the `[Content_Types].xml` (for instance, replace the file with the prepared one)"
   ]
  },
  {
   "cell_type": "code",
   "execution_count": 87,
   "metadata": {},
   "outputs": [],
   "source": [
    "content_types_file_path = os.path.join(temp_dir_path, \"[Content_Types].xml\")\n",
    "\n",
    "with open(content_types_file_path, \"r\") as content_types_file:\n",
    "    xml = content_types_file.read()\n",
    "\n",
    "updated_xml = xml.replace('<Override PartName=\"/SecurityBindings\" ContentType=\"\" />', \"\")\n",
    "\n",
    "with open(content_types_file_path, \"w\") as content_types_file:\n",
    "    content_types_file.write(updated_xml)"
   ]
  },
  {
   "attachments": {},
   "cell_type": "markdown",
   "metadata": {},
   "source": [
    "##### 5. Update the `Report/Layout` file"
   ]
  },
  {
   "attachments": {},
   "cell_type": "markdown",
   "metadata": {},
   "source": [
    "1. Month and year, to which the file should be updated"
   ]
  },
  {
   "cell_type": "code",
   "execution_count": 53,
   "metadata": {},
   "outputs": [
    {
     "name": "stdout",
     "output_type": "stream",
     "text": [
      "2023 3 Mar 1\n"
     ]
    }
   ],
   "source": [
    "current_date = datetime.date.today()\n",
    "\n",
    "current_year = current_date.year\n",
    "current_month = current_date.month\n",
    "current_month_abbr = calendar.month_abbr[current_month]\n",
    "\n",
    "current_quarter = (current_month + 2) // 3\n",
    "\n",
    "print(current_year, current_month, current_month_abbr, current_quarter)"
   ]
  },
  {
   "attachments": {},
   "cell_type": "markdown",
   "metadata": {},
   "source": [
    "2. List of pattern and replacements pairs"
   ]
  },
  {
   "cell_type": "code",
   "execution_count": 71,
   "metadata": {},
   "outputs": [],
   "source": [
    "PERIOD_REPLACEMENTS = [\n",
    "    # pattern, new value\n",
    "    ('(Jan|Feb|Mar|Apr|May|Jun|Jul|Aug|Sep|Oct|Nov|Dec)', current_month_abbr),  # month eng\n",
    "    ('\\d{1,2}月', str(current_month) + \"月\"),   # month chn\n",
    "    ('Q [1-4]', 'Q ' + str(current_quarter)),   # quarter eng (with space)\n",
    "    ('Q[1-4]', 'Q' + str(current_quarter)),     # quarter eng (without space)\n",
    "    #('\\d{1,2}月', str(current_month) + \"月\"),  # quarter chn\n",
    "    (str(current_year - 1), str(current_year))  # year\n",
    "]"
   ]
  },
  {
   "cell_type": "code",
   "execution_count": 72,
   "metadata": {},
   "outputs": [
    {
     "name": "stdout",
     "output_type": "stream",
     "text": [
      "new value - Mar\t\tpattern - (Jan|Feb|Mar|Apr|May|Jun|Jul|Aug|Sep|Oct|Nov|Dec)\n",
      "new value - 3月\t\tpattern - \\d{1,2}月\n",
      "new value - Q 1\t\tpattern - Q [1-4]\n",
      "new value - Q1\t\tpattern - Q[1-4]\n",
      "new value - 2023\t\tpattern - 2022\n"
     ]
    }
   ],
   "source": [
    "for (pattern, new_value) in PERIOD_REPLACEMENTS:\n",
    "    print(\"new value - {}\\t\\tpattern - {}\".format(new_value, pattern))"
   ]
  },
  {
   "attachments": {},
   "cell_type": "markdown",
   "metadata": {},
   "source": [
    "3. Reading the `Layout` file"
   ]
  },
  {
   "cell_type": "code",
   "execution_count": 73,
   "metadata": {},
   "outputs": [],
   "source": [
    "layout_file_path = os.path.join(temp_dir_path, \"Report\", \"Layout\")\n",
    "\n",
    "with open(layout_file_path, \"r\", encoding=\"utf-16-le\") as layout_file:\n",
    "    layout_data = layout_file.read()"
   ]
  },
  {
   "attachments": {},
   "cell_type": "markdown",
   "metadata": {},
   "source": [
    "4. Functions for replacement"
   ]
  },
  {
   "cell_type": "code",
   "execution_count": 77,
   "metadata": {},
   "outputs": [],
   "source": [
    "def replace_period(text:str, period_pattern:str, period_new_value:str):\n",
    "    search_pattern = create_value_expression(period_pattern)\n",
    "    new_value = create_value_expression(period_new_value)\n",
    "    return re.sub(search_pattern, new_value, text)\n",
    "\n",
    "\n",
    "def create_value_expression(value:str):\n",
    "    return '\"Value\": \"\\'{}\\'\"'.format(value)"
   ]
  },
  {
   "attachments": {},
   "cell_type": "markdown",
   "metadata": {},
   "source": [
    "5. Replacing the patterns in the `Layout` file"
   ]
  },
  {
   "cell_type": "code",
   "execution_count": 78,
   "metadata": {},
   "outputs": [],
   "source": [
    "for (pattern, new_value) in PERIOD_REPLACEMENTS:\n",
    "    layout_data = replace_period(layout_data, pattern, new_value)"
   ]
  },
  {
   "cell_type": "code",
   "execution_count": 65,
   "metadata": {},
   "outputs": [
    {
     "name": "stdout",
     "output_type": "stream",
     "text": [
      "[]\n"
     ]
    }
   ],
   "source": [
    "print(re.findall(r'\"Value\": \"\\'2023\\'\"', layout_data))"
   ]
  },
  {
   "attachments": {},
   "cell_type": "markdown",
   "metadata": {},
   "source": [
    "##### 6. Assemble the new .pbix file"
   ]
  },
  {
   "cell_type": "code",
   "execution_count": 49,
   "metadata": {},
   "outputs": [],
   "source": [
    "result_pbix_file_path = os.path.join(RESULTS_PATH, pbix_file_name + \".pbix\")\n",
    "                                     \n",
    "with ZipFile(result_pbix_file_path, mode=\"w\") as result_pbix_archive:\n",
    "    for folderName, subfolders, filenames in os.walk(temp_dir_path):\n",
    "        for filename in filenames:\n",
    "            # create complete filepath of file in directory\n",
    "            temp_dir_file_path = os.path.join(folderName, filename)\n",
    "            # path for the archive hierarchy\n",
    "            archive_path = temp_dir_file_path[len(temp_dir_path)+1:]\n",
    "            # selecting the compression mode depending on archive file type\n",
    "            file_compression_mode = result_pbix_archive.ZIP_STORED if filename == \"DataModel\" else result_pbix_archive.ZIP_DEFLATED\n",
    "            # writing the file to result archive\n",
    "            result_pbix_archive.write(temp_dir_file_path, arcname=archive_path, compress_type=file_compression_mode)"
   ]
  },
  {
   "cell_type": "code",
   "execution_count": null,
   "metadata": {},
   "outputs": [],
   "source": []
  },
  {
   "attachments": {},
   "cell_type": "markdown",
   "metadata": {},
   "source": [
    "# The script"
   ]
  },
  {
   "attachments": {},
   "cell_type": "markdown",
   "metadata": {},
   "source": []
  }
 ],
 "metadata": {
  "kernelspec": {
   "display_name": "Python 3",
   "language": "python",
   "name": "python3"
  },
  "language_info": {
   "codemirror_mode": {
    "name": "ipython",
    "version": 3
   },
   "file_extension": ".py",
   "mimetype": "text/x-python",
   "name": "python",
   "nbconvert_exporter": "python",
   "pygments_lexer": "ipython3",
   "version": "3.10.8"
  },
  "orig_nbformat": 4,
  "vscode": {
   "interpreter": {
    "hash": "26de051ba29f2982a8de78e945f0abaf191376122a1563185a90213a26c5da77"
   }
  }
 },
 "nbformat": 4,
 "nbformat_minor": 2
}
